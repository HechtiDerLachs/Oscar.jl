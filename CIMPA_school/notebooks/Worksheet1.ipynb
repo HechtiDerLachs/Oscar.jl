{
 "cells": [
  {
   "cell_type": "markdown",
   "id": "absolute-israeli",
   "metadata": {},
   "source": [
    "# Installing and starting Oscar\n",
    "\n",
    "First, you need to install the (compiler for) `julia`. For that, follow the installation \n",
    "instructions on the OSCAR website (www.oscar-computeralgebra.de) and make sure you \n",
    "install the latest julia version. \n",
    "\n",
    "Usually, you would then proceed to follow the installation instructions for \n",
    "OSCAR there, but for this course we will need a modified version of OSCAR which comes with some \n",
    "extra patches that have not (yet) made their way in the official release. \n",
    "To install and use that version, open a julia REPL (Terminal, notebook, ...) and type"
   ]
  },
  {
   "cell_type": "code",
   "execution_count": null,
   "id": "drawn-lender",
   "metadata": {},
   "outputs": [],
   "source": [
    "using Pkg\n",
    "] add \"https://github.com/HechtiDerLachs/Oscar.jl#CIMPA_school\" #This will take some time "
   ]
  },
  {
   "cell_type": "markdown",
   "id": "solid-murder",
   "metadata": {},
   "source": [
    "Then you should be able to start OSCAR with the command "
   ]
  },
  {
   "cell_type": "code",
   "execution_count": 2,
   "id": "empty-project",
   "metadata": {},
   "outputs": [
    {
     "name": "stderr",
     "output_type": "stream",
     "text": [
      "┌ Info: Precompiling Oscar [f1435218-dba5-11e9-1e4d-f1a5fab5fc13]\n",
      "└ @ Base loading.jl:1423\n",
      "WARNING: could not import Hecke.formal_group_law into Oscar\n",
      "WARNING: could not import Hecke.math_html into Oscar\n",
      "WARNING: using GaloisGrp.extension_field in module Oscar conflicts with an existing identifier.\n",
      "WARNING: could not import Hecke.math_html into QQAbModule\n"
     ]
    },
    {
     "name": "stdout",
     "output_type": "stream",
     "text": [
      " -----    -----    -----      -      -----   \n",
      "|     |  |     |  |     |    | |    |     |  \n",
      "|     |  |        |         |   |   |     |  \n",
      "|     |   -----   |        |     |  |-----   \n",
      "|     |        |  |        |-----|  |   |    \n",
      "|     |  |     |  |     |  |     |  |    |   \n",
      " -----    -----    -----   -     -  -     -  \n",
      "\n",
      "...combining (and extending) ANTIC, GAP, Polymake and Singular\n",
      "Version\u001b[32m 0.10.0 \u001b[39m... \n",
      " ... which comes with absolutely no warranty whatsoever\n",
      "Type: '?Oscar' for more information\n",
      "(c) 2019-2022 by The Oscar Development Team\n"
     ]
    }
   ],
   "source": [
    "using Oscar"
   ]
  },
  {
   "cell_type": "markdown",
   "id": "unlimited-migration",
   "metadata": {},
   "source": [
    "### Installing jupyter-notebook\n",
    "\n",
    "What you see here is a so-called `jupyter` notebook. Those notebooks do not run out of \n",
    "the box with julia. On Ubuntu/Debian, you need to install the package `jupyter-notebook`. \n",
    "In addition, you need an extension of `julia` so that it can connect to `jupyter`. \n",
    "According to the OSCAR website, you are supposed to run"
   ]
  },
  {
   "cell_type": "code",
   "execution_count": null,
   "id": "sitting-metabolism",
   "metadata": {},
   "outputs": [],
   "source": [
    "using Pkg\n",
    "Pkg.add(\"IJulia\")"
   ]
  },
  {
   "cell_type": "markdown",
   "id": "municipal-token",
   "metadata": {},
   "source": [
    "### Updating OSCAR during the course\n",
    "\n",
    "It might be necessary during the course to update OSCAR. To do so, type"
   ]
  },
  {
   "cell_type": "code",
   "execution_count": null,
   "id": "broken-ordering",
   "metadata": {},
   "outputs": [],
   "source": [
    "] up"
   ]
  },
  {
   "cell_type": "markdown",
   "id": "patent-outside",
   "metadata": {},
   "source": [
    "### Switching back to the official OSCAR version after the course\n",
    "\n",
    "After the course is finished and you wish to continue using OSCAR, you can switch to the \n",
    "official release version as follows"
   ]
  },
  {
   "cell_type": "code",
   "execution_count": null,
   "id": "large-doctrine",
   "metadata": {},
   "outputs": [],
   "source": [
    "] rm Oscar\n",
    "using Pkg\n",
    "Pkg.add(\"Oscar\")"
   ]
  },
  {
   "cell_type": "markdown",
   "id": "wanted-induction",
   "metadata": {},
   "source": [
    "# FIrst steps in OSCAR\n",
    "\n",
    "## Polynomial rings, etc.\n",
    "\n",
    "Some standard rings and fields are already there:"
   ]
  },
  {
   "cell_type": "code",
   "execution_count": 3,
   "id": "fantastic-diving",
   "metadata": {},
   "outputs": [
    {
     "data": {
      "text/plain": [
       "Rational Field"
      ]
     },
     "execution_count": 3,
     "metadata": {},
     "output_type": "execute_result"
    }
   ],
   "source": [
    "QQ"
   ]
  },
  {
   "cell_type": "code",
   "execution_count": 4,
   "id": "linear-christianity",
   "metadata": {},
   "outputs": [
    {
     "data": {
      "text/plain": [
       "Integer Ring"
      ]
     },
     "execution_count": 4,
     "metadata": {},
     "output_type": "execute_result"
    }
   ],
   "source": [
    "ZZ"
   ]
  },
  {
   "cell_type": "code",
   "execution_count": 5,
   "id": "japanese-vienna",
   "metadata": {},
   "outputs": [
    {
     "data": {
      "text/plain": [
       "Galois field with characteristic 53"
      ]
     },
     "execution_count": 5,
     "metadata": {},
     "output_type": "execute_result"
    }
   ],
   "source": [
    "GF(53)"
   ]
  },
  {
   "cell_type": "markdown",
   "id": "experienced-shannon",
   "metadata": {},
   "source": [
    "Some others need to be manually created:"
   ]
  },
  {
   "cell_type": "code",
   "execution_count": 3,
   "id": "latter-target",
   "metadata": {},
   "outputs": [
    {
     "data": {
      "text/plain": [
       "(Multivariate Polynomial Ring in x, y, z over Rational Field, fmpq_mpoly[x, y, z])"
      ]
     },
     "execution_count": 3,
     "metadata": {},
     "output_type": "execute_result"
    }
   ],
   "source": [
    "R, (x,y,z) = QQ[\"x\", \"y\", \"z\"]"
   ]
  },
  {
   "cell_type": "markdown",
   "id": "welcome-reporter",
   "metadata": {},
   "source": [
    "Note that the above command returns a tuple `(R, v)` consisting of the polynomial ring `R` and another tuple `v = (x,y,z)` containing its variables.\n",
    "\n",
    "We can now investigate both `R` and the variables:"
   ]
  },
  {
   "cell_type": "code",
   "execution_count": 7,
   "id": "expired-survivor",
   "metadata": {},
   "outputs": [
    {
     "data": {
      "text/plain": [
       "Multivariate Polynomial Ring in x, y, z over Rational Field"
      ]
     },
     "execution_count": 7,
     "metadata": {},
     "output_type": "execute_result"
    }
   ],
   "source": [
    "R"
   ]
  },
  {
   "cell_type": "code",
   "execution_count": 8,
   "id": "fatty-massachusetts",
   "metadata": {},
   "outputs": [
    {
     "data": {
      "text/html": [
       "x"
      ],
      "text/latex": [
       "x"
      ],
      "text/plain": [
       "x"
      ]
     },
     "execution_count": 8,
     "metadata": {},
     "output_type": "execute_result"
    }
   ],
   "source": [
    "x"
   ]
  },
  {
   "cell_type": "markdown",
   "id": "reduced-fleece",
   "metadata": {},
   "source": [
    "This does not tell us much. But of course, there is more \n",
    "going on in the background. For instance, everything in \n",
    "julia has a type and so does our variable `x`. We will \n",
    "come back to that later."
   ]
  },
  {
   "cell_type": "code",
   "execution_count": 9,
   "id": "intelligent-visibility",
   "metadata": {},
   "outputs": [
    {
     "data": {
      "text/plain": [
       "fmpq_mpoly"
      ]
     },
     "execution_count": 9,
     "metadata": {},
     "output_type": "execute_result"
    }
   ],
   "source": [
    "typeof(x)"
   ]
  },
  {
   "cell_type": "markdown",
   "id": "crude-heather",
   "metadata": {},
   "source": [
    "We can also access the variables via the `getindex`-function \n",
    "for the ring `R`:"
   ]
  },
  {
   "cell_type": "code",
   "execution_count": 10,
   "id": "elementary-conviction",
   "metadata": {},
   "outputs": [
    {
     "data": {
      "text/plain": [
       "true"
      ]
     },
     "execution_count": 10,
     "metadata": {},
     "output_type": "execute_result"
    }
   ],
   "source": [
    "x == R[1]"
   ]
  },
  {
   "cell_type": "markdown",
   "id": "scientific-category",
   "metadata": {},
   "source": [
    "Any ring and its elements in Oscar have a parent-element relationship. We can check which ring an element belongs to:"
   ]
  },
  {
   "cell_type": "code",
   "execution_count": 11,
   "id": "animated-colombia",
   "metadata": {},
   "outputs": [
    {
     "data": {
      "text/plain": [
       "Multivariate Polynomial Ring in x, y, z over Rational Field"
      ]
     },
     "execution_count": 11,
     "metadata": {},
     "output_type": "execute_result"
    }
   ],
   "source": [
    "parent(x)"
   ]
  },
  {
   "cell_type": "code",
   "execution_count": 12,
   "id": "direct-third",
   "metadata": {},
   "outputs": [
    {
     "data": {
      "text/plain": [
       "true"
      ]
     },
     "execution_count": 12,
     "metadata": {},
     "output_type": "execute_result"
    }
   ],
   "source": [
    "parent(x) == R"
   ]
  },
  {
   "cell_type": "markdown",
   "id": "municipal-ontario",
   "metadata": {},
   "source": [
    "Let us create another ring over a different field. \n",
    "This time, we use another constructor:"
   ]
  },
  {
   "cell_type": "code",
   "execution_count": 13,
   "id": "residential-thread",
   "metadata": {},
   "outputs": [
    {
     "data": {
      "text/plain": [
       "(Multivariate Polynomial Ring in w_{1}, w_{2}, w_{3}, w_{4}, w_{5} over Galois field with characteristic 101, gfp_mpoly[w_{1}, w_{2}, w_{3}, w_{4}, w_{5}])"
      ]
     },
     "execution_count": 13,
     "metadata": {},
     "output_type": "execute_result"
    }
   ],
   "source": [
    "S, w = PolynomialRing(GF(101), \"w\" => 1:5)"
   ]
  },
  {
   "cell_type": "code",
   "execution_count": 14,
   "id": "fuzzy-domain",
   "metadata": {},
   "outputs": [
    {
     "data": {
      "text/html": [
       "w_{3}"
      ],
      "text/latex": [
       "w_{3}"
      ],
      "text/plain": [
       "w_{3}"
      ]
     },
     "execution_count": 14,
     "metadata": {},
     "output_type": "execute_result"
    }
   ],
   "source": [
    "w[3]"
   ]
  },
  {
   "cell_type": "code",
   "execution_count": 15,
   "id": "prompt-object",
   "metadata": {},
   "outputs": [
    {
     "data": {
      "text/plain": [
       "false"
      ]
     },
     "execution_count": 15,
     "metadata": {},
     "output_type": "execute_result"
    }
   ],
   "source": [
    "parent(w[2]) == R"
   ]
  },
  {
   "cell_type": "code",
   "execution_count": 16,
   "id": "natural-sister",
   "metadata": {},
   "outputs": [
    {
     "data": {
      "text/plain": [
       "true"
      ]
     },
     "execution_count": 16,
     "metadata": {},
     "output_type": "execute_result"
    }
   ],
   "source": [
    "parent(w[2]) == S"
   ]
  },
  {
   "cell_type": "markdown",
   "id": "obvious-orbit",
   "metadata": {},
   "source": [
    "## Matrices, ideals, and modules\n",
    "\n",
    "### Matrices over polynomial rings\n",
    "\n",
    "Given a ring `R`, we can set up matrices over it:"
   ]
  },
  {
   "cell_type": "code",
   "execution_count": 17,
   "id": "western-tissue",
   "metadata": {},
   "outputs": [
    {
     "data": {
      "text/html": [
       "[x y z; z x y^2]"
      ],
      "text/latex": [
       "\\begin{array}{ccc}\n",
       "x & y & z \\\\\n",
       "z & x & y^{2}\n",
       "\\end{array}"
      ],
      "text/plain": [
       "[x   y     z]\n",
       "[z   x   y^2]"
      ]
     },
     "execution_count": 17,
     "metadata": {},
     "output_type": "execute_result"
    }
   ],
   "source": [
    "M = R[x y z; z x y^2]"
   ]
  },
  {
   "cell_type": "markdown",
   "id": "middle-jacksonville",
   "metadata": {},
   "source": [
    "Note that the separation of a rows entries is done by whitespaces. \n",
    "Unfortunately, that means that you have to be careful when using\n",
    "blanks in your expressions:"
   ]
  },
  {
   "cell_type": "code",
   "execution_count": 18,
   "id": "operational-england",
   "metadata": {},
   "outputs": [
    {
     "data": {
      "text/html": [
       "[x y z; z x y^2]"
      ],
      "text/latex": [
       "\\begin{array}{ccc}\n",
       "x & y & z \\\\\n",
       "z & x & y^{2}\n",
       "\\end{array}"
      ],
      "text/plain": [
       "[x   y     z]\n",
       "[z   x   y^2]"
      ]
     },
     "execution_count": 18,
     "metadata": {},
     "output_type": "execute_result"
    }
   ],
   "source": [
    "M = R[x y z; z x y^2] #TODO: Modify and play around to create a mess"
   ]
  },
  {
   "cell_type": "markdown",
   "id": "recreational-heritage",
   "metadata": {},
   "source": [
    "Especially, there is some potential of conflict with the `getindex` method when creating `1x1`-matrices:"
   ]
  },
  {
   "cell_type": "code",
   "execution_count": 19,
   "id": "stable-relaxation",
   "metadata": {},
   "outputs": [
    {
     "data": {
      "text/html": [
       "y^2"
      ],
      "text/latex": [
       "y^{2}"
      ],
      "text/plain": [
       "y^2"
      ]
     },
     "execution_count": 19,
     "metadata": {},
     "output_type": "execute_result"
    }
   ],
   "source": [
    "f = R[2]^2 # the first variable of `R` squared"
   ]
  },
  {
   "cell_type": "code",
   "execution_count": 20,
   "id": "considerable-commission",
   "metadata": {},
   "outputs": [
    {
     "data": {
      "text/html": [
       "[4]"
      ],
      "text/latex": [
       "\\begin{array}{c}\n",
       "4\n",
       "\\end{array}"
      ],
      "text/plain": [
       "[4]"
      ]
     },
     "execution_count": 20,
     "metadata": {},
     "output_type": "execute_result"
    }
   ],
   "source": [
    "F = R[2;]^2 # the 1x1-matrix A = (2) squared"
   ]
  },
  {
   "cell_type": "code",
   "execution_count": 21,
   "id": "illegal-renaissance",
   "metadata": {},
   "outputs": [
    {
     "data": {
      "text/html": [
       "y"
      ],
      "text/latex": [
       "y"
      ],
      "text/plain": [
       "y"
      ]
     },
     "execution_count": 21,
     "metadata": {},
     "output_type": "execute_result"
    }
   ],
   "source": [
    "M[1, 2] # the (1,2)-th entry of the matrix M"
   ]
  },
  {
   "cell_type": "markdown",
   "id": "orange-silver",
   "metadata": {},
   "source": [
    "Matrices can further be processed; for instance, we can take minors:"
   ]
  },
  {
   "cell_type": "code",
   "execution_count": 22,
   "id": "accompanied-license",
   "metadata": {},
   "outputs": [
    {
     "data": {
      "text/plain": [
       "3-element Vector{fmpq_mpoly}:\n",
       " x^2 - y*z\n",
       " x*y^2 - z^2\n",
       " -x*z + y^3"
      ]
     },
     "execution_count": 22,
     "metadata": {},
     "output_type": "execute_result"
    }
   ],
   "source": [
    "minors(M, 2) # return a list of 2x2-minors of M"
   ]
  },
  {
   "cell_type": "markdown",
   "id": "found-feelings",
   "metadata": {},
   "source": [
    "...or submatrices:"
   ]
  },
  {
   "cell_type": "code",
   "execution_count": 23,
   "id": "covered-cocktail",
   "metadata": {},
   "outputs": [
    {
     "data": {
      "text/html": [
       "[x y; z x]"
      ],
      "text/latex": [
       "\\begin{array}{cc}\n",
       "x & y \\\\\n",
       "z & x\n",
       "\\end{array}"
      ],
      "text/plain": [
       "[x   y]\n",
       "[z   x]"
      ]
     },
     "execution_count": 23,
     "metadata": {},
     "output_type": "execute_result"
    }
   ],
   "source": [
    "subM1 = M[1:end, 1:2] # this takes two `range`s as input"
   ]
  },
  {
   "cell_type": "code",
   "execution_count": 24,
   "id": "bigger-yesterday",
   "metadata": {},
   "outputs": [
    {
     "data": {
      "text/html": [
       "[x z; z y^2]"
      ],
      "text/latex": [
       "\\begin{array}{cc}\n",
       "x & z \\\\\n",
       "z & y^{2}\n",
       "\\end{array}"
      ],
      "text/plain": [
       "[x     z]\n",
       "[z   y^2]"
      ]
     },
     "execution_count": 24,
     "metadata": {},
     "output_type": "execute_result"
    }
   ],
   "source": [
    "subM2 = M[1:2, [1,3]] # this takes a `range` and a `Vector{Int}` as input"
   ]
  },
  {
   "cell_type": "markdown",
   "id": "pharmaceutical-ballet",
   "metadata": {},
   "source": [
    "If we want a specific minor of a matrix, we have to specify the \n",
    "corresponding square submatrix first and then take the determinant:"
   ]
  },
  {
   "cell_type": "code",
   "execution_count": 25,
   "id": "bulgarian-montgomery",
   "metadata": {},
   "outputs": [
    {
     "data": {
      "text/html": [
       "x*y^2 - z^2"
      ],
      "text/latex": [
       "x y^{2} - z^{2}"
      ],
      "text/plain": [
       "x*y^2 - z^2"
      ]
     },
     "execution_count": 25,
     "metadata": {},
     "output_type": "execute_result"
    }
   ],
   "source": [
    "det(subM2)"
   ]
  },
  {
   "cell_type": "markdown",
   "id": "progressive-river",
   "metadata": {},
   "source": [
    "### Ideals in polynomial rings\n",
    "\n",
    "We can create ideals in polynomial rings like `R` from a list of generators as follows:"
   ]
  },
  {
   "cell_type": "code",
   "execution_count": 14,
   "id": "prerequisite-israeli",
   "metadata": {},
   "outputs": [
    {
     "data": {
      "text/plain": [
       "ideal(x^2 - y*z, x*y^2 - z^2, -x*z + y^3)"
      ]
     },
     "execution_count": 14,
     "metadata": {},
     "output_type": "execute_result"
    }
   ],
   "source": [
    "I = ideal(R, [x^2 - y*z, x*y^2 - z^2, -x*z + y^3])"
   ]
  },
  {
   "cell_type": "markdown",
   "id": "approximate-yield",
   "metadata": {},
   "source": [
    "Any ideal can be asked for the generators with which it was once constructed:"
   ]
  },
  {
   "cell_type": "code",
   "execution_count": 5,
   "id": "proper-heater",
   "metadata": {},
   "outputs": [
    {
     "data": {
      "text/plain": [
       "3-element Vector{fmpq_mpoly}:\n",
       " x^2*z - y^2\n",
       " -x^5 + x*z\n",
       " x^3 - z^2"
      ]
     },
     "execution_count": 5,
     "metadata": {},
     "output_type": "execute_result"
    }
   ],
   "source": [
    "g = gens(I)"
   ]
  },
  {
   "cell_type": "markdown",
   "id": "listed-webmaster",
   "metadata": {},
   "source": [
    "We can test ideal membership in `I` for elements of `R`:"
   ]
  },
  {
   "cell_type": "code",
   "execution_count": 16,
   "id": "indonesian-payment",
   "metadata": {},
   "outputs": [
    {
     "data": {
      "text/plain": [
       "false"
      ]
     },
     "execution_count": 16,
     "metadata": {},
     "output_type": "execute_result"
    }
   ],
   "source": [
    "x + 1 in I"
   ]
  },
  {
   "cell_type": "code",
   "execution_count": 18,
   "id": "progressive-shelter",
   "metadata": {},
   "outputs": [
    {
     "data": {
      "text/plain": [
       "true"
      ]
     },
     "execution_count": 18,
     "metadata": {},
     "output_type": "execute_result"
    }
   ],
   "source": [
    "3*(x^2 - y*z) + z*(x*y^2 - z^2) in I"
   ]
  },
  {
   "cell_type": "markdown",
   "id": "breathing-franchise",
   "metadata": {},
   "source": [
    "Moreover, for any given element $f \\in I$, we can ask \n",
    "for the coefficients of $f$ in a linear combination of the generators of $I$:"
   ]
  },
  {
   "cell_type": "code",
   "execution_count": 19,
   "id": "popular-remove",
   "metadata": {},
   "outputs": [
    {
     "data": {
      "text/plain": [
       "[3   z   0]"
      ]
     },
     "execution_count": 19,
     "metadata": {},
     "output_type": "execute_result"
    }
   ],
   "source": [
    "coordinates(3*(x^2 - y*z) + z*(x*y^2 - z^2), I)"
   ]
  },
  {
   "cell_type": "markdown",
   "id": "documented-residence",
   "metadata": {},
   "source": [
    "Note that such \"coordinates\" are not unique!"
   ]
  },
  {
   "cell_type": "markdown",
   "id": "hydraulic-corner",
   "metadata": {},
   "source": [
    "## Geometry: Varieties and their singular loci\n",
    "\n",
    "For the computer, an affine variety is usually modeled by the ideal $I \\subset R$ defining it. \n",
    "In Oscar, we even have data types for varieties (later!), but we will stick with the algebraic \n",
    "side for the moment, thinking of it geometrically. \n",
    "\n",
    "Let us come back to one of our previous examples..."
   ]
  },
  {
   "cell_type": "code",
   "execution_count": 33,
   "id": "legal-translator",
   "metadata": {},
   "outputs": [
    {
     "data": {
      "text/plain": [
       "ideal(-x^2*y - x*y^2 + x*y)"
      ]
     },
     "execution_count": 33,
     "metadata": {},
     "output_type": "execute_result"
    }
   ],
   "source": [
    "R, (x,y) = QQ[\"x\", \"y\"]\n",
    "f = x*y*(1-x-y)\n",
    "I = ideal(R, f)"
   ]
  },
  {
   "cell_type": "markdown",
   "id": "complicated-webcam",
   "metadata": {},
   "source": [
    "... and let us find out \n",
    "what we can about the underlying variety."
   ]
  },
  {
   "cell_type": "code",
   "execution_count": 34,
   "id": "portable-concept",
   "metadata": {},
   "outputs": [
    {
     "data": {
      "text/plain": [
       "1"
      ]
     },
     "execution_count": 34,
     "metadata": {},
     "output_type": "execute_result"
    }
   ],
   "source": [
    "dim(I)"
   ]
  },
  {
   "cell_type": "markdown",
   "id": "global-african",
   "metadata": {},
   "source": [
    "So the variety defined by `I` is an algebraic curve. Does it have singular points? Let's apply the jacobian criterion!"
   ]
  },
  {
   "cell_type": "code",
   "execution_count": 35,
   "id": "median-portugal",
   "metadata": {},
   "outputs": [
    {
     "data": {
      "text/plain": [
       "[-2*x*y - y^2 + y]\n",
       "[-x^2 - 2*x*y + x]"
      ]
     },
     "execution_count": 35,
     "metadata": {},
     "output_type": "execute_result"
    }
   ],
   "source": [
    "g = gens(I)\n",
    "Dg = jacobi_matrix(g)"
   ]
  },
  {
   "cell_type": "code",
   "execution_count": 39,
   "id": "comparable-measure",
   "metadata": {},
   "outputs": [
    {
     "data": {
      "text/plain": [
       "ideal(-2*x*y - y^2 + y, -x^2 - 2*x*y + x, -x^2*y - x*y^2 + x*y)"
      ]
     },
     "execution_count": 39,
     "metadata": {},
     "output_type": "execute_result"
    }
   ],
   "source": [
    "J = ideal(R, minors(Dg, 1)) + I # Apply the jacobian criterion"
   ]
  },
  {
   "cell_type": "markdown",
   "id": "spectacular-roommate",
   "metadata": {},
   "source": [
    "Often, the output is not very readable. Since we are only \n",
    "interested in the geometric locus (and not the scheme theoretic \n",
    "structure), there is some hope that the radical is more simple.\n",
    "But be warned! Taking the radical is in general a very \n",
    "expensive procedure. "
   ]
  },
  {
   "cell_type": "code",
   "execution_count": 40,
   "id": "unnecessary-semiconductor",
   "metadata": {},
   "outputs": [
    {
     "data": {
      "text/plain": [
       "ideal(y^2 - y, x*y, x^2 - x)"
      ]
     },
     "execution_count": 40,
     "metadata": {},
     "output_type": "execute_result"
    }
   ],
   "source": [
    "radical(J)"
   ]
  },
  {
   "cell_type": "markdown",
   "id": "noble-petersburg",
   "metadata": {},
   "source": [
    "No luck in this case. As a next step, let us try to decompose `J` using the `primary_decomposition`:"
   ]
  },
  {
   "cell_type": "code",
   "execution_count": 41,
   "id": "growing-identification",
   "metadata": {},
   "outputs": [
    {
     "data": {
      "text/plain": [
       "3-element Vector{Tuple{MPolyIdeal{fmpq_mpoly}, MPolyIdeal{fmpq_mpoly}}}:\n",
       " (ideal(y, x), ideal(x, y))\n",
       " (ideal(y - 1, x), ideal(y - 1, x))\n",
       " (ideal(y, x - 1), ideal(y, x - 1))"
      ]
     },
     "execution_count": 41,
     "metadata": {},
     "output_type": "execute_result"
    }
   ],
   "source": [
    "primary_decomposition(J)"
   ]
  },
  {
   "cell_type": "markdown",
   "id": "crude-queue",
   "metadata": {},
   "source": [
    "We can wrap this in a new function:"
   ]
  },
  {
   "cell_type": "code",
   "execution_count": 50,
   "id": "increasing-genome",
   "metadata": {},
   "outputs": [
    {
     "data": {
      "text/plain": [
       "radical_of_singular_locus (generic function with 1 method)"
      ]
     },
     "execution_count": 50,
     "metadata": {},
     "output_type": "execute_result"
    }
   ],
   "source": [
    "function radical_of_singular_locus(I) \n",
    "    d = dim(I)                     # the dimension of the ideal \n",
    "    R = base_ring(I)               # the ring in which `I` lives\n",
    "    g = gens(I)\n",
    "    Dg = jacobi_matrix(g)\n",
    "    n = ngens(R)                   # the number of variables of `R`\n",
    "    Ising = I + ideal(R, minors(Dg, n-d))\n",
    "    return radical(Ising)\n",
    "end"
   ]
  },
  {
   "cell_type": "markdown",
   "id": "revolutionary-activation",
   "metadata": {},
   "source": [
    "Let's apply it to our previous ideal and see whether it works."
   ]
  },
  {
   "cell_type": "code",
   "execution_count": 51,
   "id": "helpful-expense",
   "metadata": {},
   "outputs": [
    {
     "data": {
      "text/plain": [
       "ideal(z - 1, x^2 - 2*x - y^2)"
      ]
     },
     "execution_count": 51,
     "metadata": {},
     "output_type": "execute_result"
    }
   ],
   "source": [
    "radical_of_singular_locus(I)"
   ]
  },
  {
   "cell_type": "markdown",
   "id": "gothic-hawaii",
   "metadata": {},
   "source": [
    "## Local rings in OSCAR\n",
    "\n",
    "In Oscar, we can localize polynomial rings at geometric points $p \\in \\mathbf A^n$. This \n",
    "is important in singularity theory, since geometrically the algebraic procedure of localization \n",
    "corresponds to passing from an affine variety to its germ at a point."
   ]
  },
  {
   "cell_type": "code",
   "execution_count": 43,
   "id": "lesser-albert",
   "metadata": {},
   "outputs": [
    {
     "data": {
      "text/plain": [
       "(localization of Multivariate Polynomial Ring in x, y, z over Rational Field at the complement of maximal ideal corresponding to point with coordinates fmpq[0, 0, 0], Map with following data\n",
       "Domain:\n",
       "=======\n",
       "Multivariate Polynomial Ring in x, y, z over Rational Field\n",
       "Codomain:\n",
       "=========\n",
       "localization of Multivariate Polynomial Ring in x, y, z over Rational Field at the complement of maximal ideal corresponding to point with coordinates fmpq[0, 0, 0])"
      ]
     },
     "execution_count": 43,
     "metadata": {},
     "output_type": "execute_result"
    }
   ],
   "source": [
    "R, (x,y,z) = QQ[\"x\", \"y\", \"z\"]\n",
    "U = complement_of_ideal(R, [0,0,0]) # The multiplicative set of functions not vanishing at the origin\n",
    "L, map_from_R_to_L = Localization(R, U)"
   ]
  },
  {
   "cell_type": "markdown",
   "id": "friendly-school",
   "metadata": {},
   "source": [
    "Just like, for example, `Int` is casted to `Float` when evaluating `1 + 1.3`, \n",
    "elements of the original ring `R` are automatically casted to \n",
    "elements of `L` whenever the context requires it; we can freely \n",
    "do arithmetic mixing elements of both rings."
   ]
  },
  {
   "cell_type": "code",
   "execution_count": 44,
   "id": "moral-vaccine",
   "metadata": {},
   "outputs": [
    {
     "data": {
      "text/plain": [
       "(x*y - x + 1)//(y - 1)"
      ]
     },
     "execution_count": 44,
     "metadata": {},
     "output_type": "execute_result"
    }
   ],
   "source": [
    "a = x + inv(L(y-1))"
   ]
  },
  {
   "cell_type": "code",
   "execution_count": 45,
   "id": "identical-adapter",
   "metadata": {},
   "outputs": [
    {
     "data": {
      "text/plain": [
       "true"
      ]
     },
     "execution_count": 45,
     "metadata": {},
     "output_type": "execute_result"
    }
   ],
   "source": [
    "parent(a) == L"
   ]
  },
  {
   "cell_type": "markdown",
   "id": "little-painting",
   "metadata": {},
   "source": [
    "Also, mathematical comparison works as expected:"
   ]
  },
  {
   "cell_type": "code",
   "execution_count": 46,
   "id": "advanced-nickname",
   "metadata": {},
   "outputs": [
    {
     "data": {
      "text/plain": [
       "true"
      ]
     },
     "execution_count": 46,
     "metadata": {},
     "output_type": "execute_result"
    }
   ],
   "source": [
    "one(L) == one(R)"
   ]
  },
  {
   "cell_type": "markdown",
   "id": "thermal-stack",
   "metadata": {},
   "source": [
    "For comparison of the objects in the computer (i.e. in memory), there is the `===` operator. It gives another result:"
   ]
  },
  {
   "cell_type": "code",
   "execution_count": 47,
   "id": "planned-encounter",
   "metadata": {},
   "outputs": [
    {
     "data": {
      "text/plain": [
       "false"
      ]
     },
     "execution_count": 47,
     "metadata": {},
     "output_type": "execute_result"
    }
   ],
   "source": [
    "one(L) === one(R)"
   ]
  },
  {
   "cell_type": "markdown",
   "id": "toxic-hybrid",
   "metadata": {},
   "source": [
    "Let us come back to geometry. \n",
    "We set up the following variety. X is the union of a \n",
    "hyperplane H = {z = 1} and the cylinder over a smooth\n",
    "conic C = {x(x-2)-y^2 = 0}. Both components are smooth, \n",
    "but their union is singular along the intersection of \n",
    "both components."
   ]
  },
  {
   "cell_type": "code",
   "execution_count": 48,
   "id": "confirmed-killer",
   "metadata": {},
   "outputs": [
    {
     "data": {
      "text/plain": [
       "ideal(x^2*z - x^2 - 2*x*z + 2*x - y^2*z + y^2)"
      ]
     },
     "execution_count": 48,
     "metadata": {},
     "output_type": "execute_result"
    }
   ],
   "source": [
    "h = z-1\n",
    "f = x*(x-2)-y^2\n",
    "I = ideal(R, f*h)"
   ]
  },
  {
   "cell_type": "markdown",
   "id": "prescribed-skiing",
   "metadata": {},
   "source": [
    "Let us use our above function to find out about the \n",
    "singular locus:"
   ]
  },
  {
   "cell_type": "code",
   "execution_count": 58,
   "id": "federal-quality",
   "metadata": {},
   "outputs": [
    {
     "data": {
      "text/plain": [
       "ideal(z - 1, x^2 - 2*x - y^2)"
      ]
     },
     "execution_count": 58,
     "metadata": {},
     "output_type": "execute_result"
    }
   ],
   "source": [
    "J = radical_of_singular_locus(I)"
   ]
  },
  {
   "cell_type": "code",
   "execution_count": 60,
   "id": "better-guyana",
   "metadata": {},
   "outputs": [
    {
     "data": {
      "text/plain": [
       "ideal in localization of Multivariate Polynomial Ring in x, y, z over Rational Field at the complement of maximal ideal corresponding to point with coordinates fmpq[0, 0, 0] generated by the elements (z - 1)//1, (x^2 - 2*x - y^2)//1"
      ]
     },
     "execution_count": 60,
     "metadata": {},
     "output_type": "execute_result"
    }
   ],
   "source": [
    "J_loc = L(J)"
   ]
  },
  {
   "cell_type": "markdown",
   "id": "frequent-wallet",
   "metadata": {},
   "source": [
    "`J` is now an ideal in the ring `L`. "
   ]
  },
  {
   "cell_type": "code",
   "execution_count": 62,
   "id": "standing-payroll",
   "metadata": {},
   "outputs": [
    {
     "data": {
      "text/plain": [
       "true"
      ]
     },
     "execution_count": 62,
     "metadata": {},
     "output_type": "execute_result"
    }
   ],
   "source": [
    "base_ring(J_loc) == L"
   ]
  },
  {
   "cell_type": "markdown",
   "id": "amazing-berry",
   "metadata": {},
   "source": [
    "In particular, it has another data type working in the background!"
   ]
  },
  {
   "cell_type": "code",
   "execution_count": 64,
   "id": "southeast-hardware",
   "metadata": {},
   "outputs": [
    {
     "data": {
      "text/plain": [
       "MPolyLocalizedIdeal{MPolyLocalizedRing{FlintRationalField, fmpq, FmpqMPolyRing, fmpq_mpoly, MPolyComplementOfKPointIdeal{FlintRationalField, fmpq, FmpqMPolyRing, fmpq_mpoly}}, MPolyLocalizedRingElem{FlintRationalField, fmpq, FmpqMPolyRing, fmpq_mpoly, MPolyComplementOfKPointIdeal{FlintRationalField, fmpq, FmpqMPolyRing, fmpq_mpoly}}}"
      ]
     },
     "execution_count": 64,
     "metadata": {},
     "output_type": "execute_result"
    }
   ],
   "source": [
    "typeof(J_loc)"
   ]
  },
  {
   "cell_type": "code",
   "execution_count": 65,
   "id": "induced-entrance",
   "metadata": {},
   "outputs": [
    {
     "data": {
      "text/plain": [
       "MPolyIdeal{fmpq_mpoly}"
      ]
     },
     "execution_count": 65,
     "metadata": {},
     "output_type": "execute_result"
    }
   ],
   "source": [
    "typeof(J)"
   ]
  },
  {
   "cell_type": "markdown",
   "id": "strange-allergy",
   "metadata": {},
   "source": [
    "Nevertheless, `J_loc` should behave just like any ideal should behave, i.e. \n",
    "one should be able to ask for a set of generators, one should be able \n",
    "to test ideal membership of elements, etc. Let us check this in our \n",
    "geometric example.\n",
    "\n",
    "Locally at the point p = (0,0,0), we only have the \n",
    "smooth component C and its singular intersection \n",
    "with H is far away. Hence, the localized ideal of \n",
    "the singular locus should be trivial. Indeed, \n",
    "we find:"
   ]
  },
  {
   "cell_type": "code",
   "execution_count": 66,
   "id": "municipal-berlin",
   "metadata": {},
   "outputs": [
    {
     "data": {
      "text/plain": [
       "true"
      ]
     },
     "execution_count": 66,
     "metadata": {},
     "output_type": "execute_result"
    }
   ],
   "source": [
    "one(L) in J_loc"
   ]
  },
  {
   "cell_type": "markdown",
   "id": "prostate-practice",
   "metadata": {},
   "source": [
    "We can also try to use our above method on the localization of `I` directly:"
   ]
  },
  {
   "cell_type": "code",
   "execution_count": 71,
   "id": "passing-internship",
   "metadata": {},
   "outputs": [
    {
     "data": {
      "text/plain": [
       "ideal in localization of Multivariate Polynomial Ring in x, y, z over Rational Field at the complement of maximal ideal corresponding to point with coordinates fmpq[0, 0, 0] generated by the elements (x^2*z - x^2 - 2*x*z + 2*x - y^2*z + y^2)//1"
      ]
     },
     "execution_count": 71,
     "metadata": {},
     "output_type": "execute_result"
    }
   ],
   "source": [
    "I_loc = L(I)"
   ]
  },
  {
   "cell_type": "code",
   "execution_count": 70,
   "id": "polished-triangle",
   "metadata": {},
   "outputs": [
    {
     "data": {
      "text/plain": [
       "ideal in localization of Multivariate Polynomial Ring in x, y, z over Rational Field at the complement of maximal ideal corresponding to point with coordinates fmpq[0, 0, 0] generated by the elements 1//1"
      ]
     },
     "execution_count": 70,
     "metadata": {},
     "output_type": "execute_result"
    }
   ],
   "source": [
    "radical_of_singular_locus(I_loc) "
   ]
  }
 ],
 "metadata": {
  "kernelspec": {
   "display_name": "Julia 1.7.3",
   "language": "julia",
   "name": "julia-1.7"
  },
  "language_info": {
   "file_extension": ".jl",
   "mimetype": "application/julia",
   "name": "julia",
   "version": "1.7.3"
  }
 },
 "nbformat": 4,
 "nbformat_minor": 5
}
