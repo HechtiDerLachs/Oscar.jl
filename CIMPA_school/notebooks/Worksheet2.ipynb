{
 "cells": [
  {
   "cell_type": "code",
   "execution_count": null,
   "id": "blank-premiere",
   "metadata": {},
   "outputs": [],
   "source": [
    "using Revise, Oscar"
   ]
  },
  {
   "cell_type": "markdown",
   "id": "christian-spank",
   "metadata": {},
   "source": [
    "# Worksheet 2: Dimension, multiplicities, etc.\n",
    "\n",
    "## Dimension: Local and global\n",
    "\n",
    "The definition of (Krull-) dimension in Noetherian rings is quite unaccessible in general. \n",
    "For local rings, the most practical method to compute dimensions is via the \n",
    "Hilbert-Samuel polynomial. "
   ]
  },
  {
   "cell_type": "code",
   "execution_count": null,
   "id": "located-hampshire",
   "metadata": {},
   "outputs": [],
   "source": [
    "R, (x,y,z,w) = QQ[\"x\", \"y\", \"z\", \"w\"]\n",
    "M = R[x y z*(z-1); y z w]\n",
    "I = ideal(R, minors(M, 2))\n",
    "I"
   ]
  },
  {
   "cell_type": "markdown",
   "id": "wrapped-killing",
   "metadata": {},
   "source": [
    "With the following command we create a *local* ordering on the variables of $R$."
   ]
  },
  {
   "cell_type": "code",
   "execution_count": null,
   "id": "guided-albuquerque",
   "metadata": {},
   "outputs": [],
   "source": [
    "o = negdegrevlex(gens(R))"
   ]
  },
  {
   "cell_type": "markdown",
   "id": "optional-pocket",
   "metadata": {},
   "source": [
    "We can use this to produce a *standard basis* of the ideal $I$ for this ordering. "
   ]
  },
  {
   "cell_type": "code",
   "execution_count": null,
   "id": "european-workshop",
   "metadata": {},
   "outputs": [],
   "source": [
    "std_I = std_basis(I, o)"
   ]
  },
  {
   "cell_type": "markdown",
   "id": "necessary-surgeon",
   "metadata": {},
   "source": [
    "For a given ordering, we can also ask for the *leading ideal* of $I$ which is simply the ideal generated \n",
    "by the leading terms of the elements of the standard basis."
   ]
  },
  {
   "cell_type": "code",
   "execution_count": null,
   "id": "developmental-judges",
   "metadata": {},
   "outputs": [],
   "source": [
    "lead_I = leading_ideal(I, ordering=o)"
   ]
  },
  {
   "cell_type": "markdown",
   "id": "mature-webster",
   "metadata": {},
   "source": [
    "By construction, the leading ideal is a *homogeneous* ideal for this ordering. We can pass to the graded quotient ring for this ideal and compute the Hilbert polynomial."
   ]
  },
  {
   "cell_type": "code",
   "execution_count": null,
   "id": "stretch-reserve",
   "metadata": {},
   "outputs": [],
   "source": [
    "Rgr, _ = grade(R) # The same ring as R, but with the standard grading \n",
    "lead_Igr = ideal(Rgr, Rgr.(gens(lead_I))) # The graded version of the ideal lead_I\n",
    "Q, _ = quo(Rgr, lead_Igr) # The (graded) quotient ring by that ideal\n",
    "h = hilbert_polynomial(Q)"
   ]
  },
  {
   "cell_type": "markdown",
   "id": "sapphire-wheel",
   "metadata": {},
   "source": [
    "Note that the Hilbert polynomial comes with a new variable in a new ring."
   ]
  },
  {
   "cell_type": "code",
   "execution_count": null,
   "id": "gothic-granny",
   "metadata": {},
   "outputs": [],
   "source": [
    "parent(h)"
   ]
  },
  {
   "cell_type": "markdown",
   "id": "pregnant-fellowship",
   "metadata": {},
   "source": [
    "Also the Hilbert series is available "
   ]
  },
  {
   "cell_type": "code",
   "execution_count": null,
   "id": "ordered-awareness",
   "metadata": {},
   "outputs": [],
   "source": [
    "p, q = hilbert_series(Q)"
   ]
  },
  {
   "cell_type": "markdown",
   "id": "confident-gossip",
   "metadata": {},
   "source": [
    "Accessing the coefficients of the Hilbert polynomial is rather tedious. The reason is that \n",
    "the `coefficients` command returns an `iterator`; a common behaviour in `julia`. "
   ]
  },
  {
   "cell_type": "code",
   "execution_count": null,
   "id": "focused-jumping",
   "metadata": {},
   "outputs": [],
   "source": [
    "coefficients(h)"
   ]
  },
  {
   "cell_type": "markdown",
   "id": "naughty-mother",
   "metadata": {},
   "source": [
    "How can we use such iterators? Well, we can, for example, iterate over them in `for`-loops."
   ]
  },
  {
   "cell_type": "code",
   "execution_count": null,
   "id": "employed-observation",
   "metadata": {},
   "outputs": [],
   "source": [
    "for c in coefficients(h)\n",
    "    println(c)\n",
    "end"
   ]
  },
  {
   "cell_type": "markdown",
   "id": "competent-terminology",
   "metadata": {},
   "source": [
    "If we do not care about such features and only want everything in a list, we can just feed the iterator to `collect`."
   ]
  },
  {
   "cell_type": "code",
   "execution_count": null,
   "id": "requested-manufacturer",
   "metadata": {},
   "outputs": [],
   "source": [
    "c = collect(coefficients(h))"
   ]
  },
  {
   "cell_type": "markdown",
   "id": "established-benjamin",
   "metadata": {},
   "source": [
    "Or just take any other shortcut to the information of interest:"
   ]
  },
  {
   "cell_type": "code",
   "execution_count": null,
   "id": "accepting-stranger",
   "metadata": {},
   "outputs": [],
   "source": [
    "last(coefficients(h))"
   ]
  },
  {
   "cell_type": "markdown",
   "id": "sufficient-elephant",
   "metadata": {},
   "source": [
    "## The Milnor number\n",
    "\n",
    "Let us compute the Milnor number for one of the previous examples"
   ]
  },
  {
   "cell_type": "code",
   "execution_count": null,
   "id": "fresh-happening",
   "metadata": {},
   "outputs": [],
   "source": [
    "R, (x,y) = QQ[\"x\", \"y\"]\n",
    "f = x*y*(x+y-1)"
   ]
  },
  {
   "cell_type": "markdown",
   "id": "express-monster",
   "metadata": {},
   "source": [
    "We can implement the functionality from the lecture in various functions."
   ]
  },
  {
   "cell_type": "code",
   "execution_count": null,
   "id": "seasonal-affiliate",
   "metadata": {},
   "outputs": [],
   "source": [
    "function milnor_number(f::MPolyElem)\n",
    "    R = parent(f)\n",
    "    J = ideal(R, minors(jacobi_matrix(f), 1))\n",
    "    return singular_vdim(J)\n",
    "end"
   ]
  },
  {
   "cell_type": "markdown",
   "id": "wanted-spending",
   "metadata": {},
   "source": [
    "Note that we used a rather involved method as a black box: `singular_vdim`."
   ]
  },
  {
   "cell_type": "code",
   "execution_count": null,
   "id": "neutral-wayne",
   "metadata": {},
   "outputs": [],
   "source": [
    "milnor_number(f)"
   ]
  },
  {
   "cell_type": "markdown",
   "id": "resident-belarus",
   "metadata": {},
   "source": [
    "So what is happening there under the hood? \n",
    "\n",
    "Basically, `singular_vdim` is counting the monomials 'below' the generators of the leading ideal.\n",
    "Let's see whether we can manually confirm the result."
   ]
  },
  {
   "cell_type": "code",
   "execution_count": null,
   "id": "exterior-engine",
   "metadata": {},
   "outputs": [],
   "source": [
    "R = parent(f)\n",
    "J = ideal(R, minors(jacobi_matrix(f), 1))\n",
    "o = degrevlex(gens(R))\n",
    "leading_ideal(J, ordering=o)"
   ]
  },
  {
   "cell_type": "markdown",
   "id": "coordinated-expense",
   "metadata": {},
   "source": [
    "The above is the *global* milnor number. If we are only interested in singularities \n",
    "at the origin, then we can repeat the same process with a local ordering."
   ]
  },
  {
   "cell_type": "code",
   "execution_count": null,
   "id": "governing-bench",
   "metadata": {},
   "outputs": [],
   "source": [
    "R = parent(f)\n",
    "J = ideal(R, minors(jacobi_matrix(f), 1))\n",
    "o = negdegrevlex(gens(R))\n",
    "leading_ideal(J, ordering=o)"
   ]
  },
  {
   "cell_type": "markdown",
   "id": "hired-underwear",
   "metadata": {},
   "source": [
    "We see that the singularity at the origin has Milnor number $1$ instead of the global Milnor number $4$. \n",
    "We allowed ourselves to accomodate the above commands in the following function."
   ]
  },
  {
   "cell_type": "code",
   "execution_count": null,
   "id": "spoken-florida",
   "metadata": {},
   "outputs": [],
   "source": [
    "singular_vdim_local(J)"
   ]
  },
  {
   "cell_type": "markdown",
   "id": "together-ordinance",
   "metadata": {},
   "source": [
    "Similarly, we could do the same at any other rational point $p \\in \\mathbf A^2$, for instance at the other singular points $(0, 1)$ or $(1, 0)$ of $f$. To this end, we have to apply an isomorphism $\\varphi \\colon R \\to R$ that takes $p$ to the origin, translate the ideal along $\\varphi$ and repeat the computations for the local ordering. \n",
    "Luckily, this has already been wrapped up in the hidden (i.e. non-exported) function `Oscar.shifted_ideal` "
   ]
  },
  {
   "cell_type": "code",
   "execution_count": null,
   "id": "judicial-audio",
   "metadata": {},
   "outputs": [],
   "source": [
    "L, _ = Localization(R, complement_of_ideal(R, [1, 0]))\n",
    "J_loc = L(J)"
   ]
  },
  {
   "cell_type": "code",
   "execution_count": null,
   "id": "coral-spotlight",
   "metadata": {},
   "outputs": [],
   "source": [
    "Df = jacobi_matrix(L(f))\n",
    "J = ideal(L, minors(Df, 1))\n",
    "J_shift = Oscar.shifted_ideal(J)"
   ]
  },
  {
   "cell_type": "markdown",
   "id": "biblical-press",
   "metadata": {},
   "source": [
    "Note that `shifted_ideal` returns an ideal in the original polynomial ring $R$ and not in the localization $L$!"
   ]
  },
  {
   "cell_type": "code",
   "execution_count": null,
   "id": "adopted-original",
   "metadata": {},
   "outputs": [],
   "source": [
    "singular_vdim_local(J_shift)"
   ]
  },
  {
   "cell_type": "markdown",
   "id": "stretch-angle",
   "metadata": {},
   "source": [
    "## The Tjurina number\n",
    "\n",
    "For any singular germ $(X,0) \\subset (\\mathbf C,0)$ with an isolated singularity, there is the \n",
    "*Tjurina number* counting the minimal number of parameters in a versal deformation of $(X,0)$. \n",
    "For a hypersurface $X = f^{-1}(\\{0\\})$, $f \\colon (\\mathbf C^{n+1}, 0) \\to (\\mathbf C,0)$ it defined as the length of the *Tjurina algebra*. Let us see this in an example."
   ]
  },
  {
   "cell_type": "code",
   "execution_count": null,
   "id": "cognitive-month",
   "metadata": {},
   "outputs": [],
   "source": [
    "R, (x,y) = QQ[\"x\", \"y\"]\n",
    "f0 = x^5 + y^5\n",
    "J0 = ideal(R, f0) + ideal(R, minors(jacobi_matrix(f0), 1))\n",
    "singular_vdim_local(J0)\n",
    "# milnor_number(f0)"
   ]
  },
  {
   "cell_type": "markdown",
   "id": "pending-census",
   "metadata": {},
   "source": [
    "Note that this is equal to the Milnor number of $f$. This is due to the fact that $f$ is *quasi-homogeneous*. If the function does not have this property, the Milnor and Tjurina number can differ:"
   ]
  },
  {
   "cell_type": "code",
   "execution_count": null,
   "id": "impossible-consumer",
   "metadata": {},
   "outputs": [],
   "source": [
    "f1 = x^5 + y^5 + x^3*y^3\n",
    "J1 = ideal(R, f1) + ideal(R, minors(jacobi_matrix(f1), 1))\n",
    "singular_vdim_local(J1)"
   ]
  },
  {
   "cell_type": "code",
   "execution_count": null,
   "id": "operating-optimum",
   "metadata": {},
   "outputs": [],
   "source": [
    "milnor_number(f1)\n",
    "# J = ideal(R, minors(jacobi_matrix(f1), 1))\n",
    "# primary_decomposition(J)  # Try this if you want to see what went wrong."
   ]
  },
  {
   "cell_type": "markdown",
   "id": "integrated-advantage",
   "metadata": {},
   "source": [
    "What a difference! But wait -- did the Milnor number really jump up that much compared to $f_0$? Somehow, it did, but *globally* and not at the origin!"
   ]
  },
  {
   "cell_type": "code",
   "execution_count": null,
   "id": "effective-louisville",
   "metadata": {},
   "outputs": [],
   "source": [
    "L, _ = Localization(R, complement_of_ideal(R, [0, 0]))\n",
    "Oscar.milnor_number(L(f))"
   ]
  },
  {
   "cell_type": "markdown",
   "id": "caring-transformation",
   "metadata": {},
   "source": [
    "Still, we see a difference of $1$ between these two numbers."
   ]
  },
  {
   "cell_type": "markdown",
   "id": "magnetic-payment",
   "metadata": {},
   "source": [
    "## Milnor numbers of ICIS and the Le-Greuel formula\n",
    "\n",
    "Recall the discussion of the Le-Greuel formula for ICIS from the lecture. \n",
    "A necessary ingredient is the construction of *random* hyperplanes. \n",
    "This can, for example, be done as follows. "
   ]
  },
  {
   "cell_type": "code",
   "execution_count": null,
   "id": "isolated-pension",
   "metadata": {},
   "outputs": [],
   "source": [
    "[rand(QQ, -100:100) for i in 1:10]"
   ]
  },
  {
   "cell_type": "markdown",
   "id": "impossible-basket",
   "metadata": {},
   "source": [
    "Let us compute the Milnor number(s) for the $S_5$ singularity."
   ]
  },
  {
   "cell_type": "code",
   "execution_count": null,
   "id": "chinese-flash",
   "metadata": {},
   "outputs": [],
   "source": [
    "R, (x,y,z) = QQ[\"x\", \"y\", \"z\"]\n",
    "I = ideal(R, [x*y, x^2 + y^2 + z^2])\n",
    "# Let us first check that this is really an ICIS\n",
    "@show dim(I)\n",
    "@show radical(singular_slocus(I))"
   ]
  },
  {
   "cell_type": "markdown",
   "id": "wicked-check",
   "metadata": {},
   "source": [
    "Next, we need to construct the isolated hypersurface singularity\n",
    "given by a random linear combination of the two generators."
   ]
  },
  {
   "cell_type": "code",
   "execution_count": null,
   "id": "interracial-allergy",
   "metadata": {},
   "outputs": [],
   "source": [
    "a = [rand(QQ, -100:100) for i in 1:2]\n",
    "h = sum([c*g for (c, g) in zip(a, gens(I))])\n",
    "I1 = ideal(R, h)"
   ]
  },
  {
   "cell_type": "markdown",
   "id": "palestinian-invention",
   "metadata": {},
   "source": [
    "Let us verify that this is indeed an isolated hypersurface singularity."
   ]
  },
  {
   "cell_type": "code",
   "execution_count": null,
   "id": "distributed-helping",
   "metadata": {},
   "outputs": [],
   "source": [
    "@show dim(I1)\n",
    "@show radical(singular_slocus(I1))"
   ]
  },
  {
   "cell_type": "markdown",
   "id": "advised-worst",
   "metadata": {},
   "source": [
    "If we want to know more about the singularity at the origin, we may ask OSCAR (or more precisely SINGULAR in the background) to classify it."
   ]
  },
  {
   "cell_type": "code",
   "execution_count": null,
   "id": "proper-college",
   "metadata": {},
   "outputs": [],
   "source": [
    "classify(h)"
   ]
  },
  {
   "cell_type": "code",
   "execution_count": null,
   "id": "outdoor-filter",
   "metadata": {},
   "outputs": [],
   "source": [
    "mu1 = milnor_number(h)"
   ]
  },
  {
   "cell_type": "markdown",
   "id": "racial-surgeon",
   "metadata": {},
   "source": [
    "Now comes the truely determinantal part of the formula."
   ]
  },
  {
   "cell_type": "code",
   "execution_count": null,
   "id": "worldwide-employer",
   "metadata": {},
   "outputs": [],
   "source": [
    "M = jacobi_matrix(gens(I))\n",
    "J = ideal(R, minors(M, 2)) + I1\n",
    "mu0 = singular_vdim_local(J)"
   ]
  },
  {
   "cell_type": "markdown",
   "id": "color-publication",
   "metadata": {},
   "source": [
    "Hence, the total Milnor number is $\\mu(S_5) = \\mu_0 - \\mu_1 = 6 - 1 = 5$."
   ]
  },
  {
   "cell_type": "markdown",
   "id": "worst-telling",
   "metadata": {},
   "source": [
    "## Deformations of complete intersections\n",
    "\n",
    "We use the $S_5$-singularity from before."
   ]
  },
  {
   "cell_type": "code",
   "execution_count": null,
   "id": "decent-consequence",
   "metadata": {},
   "outputs": [],
   "source": [
    "R, (x,y,z) = QQ[\"x\", \"y\", \"z\"]\n",
    "I = ideal(R, [x*y, x^2 + y^2 + z^2])"
   ]
  },
  {
   "cell_type": "markdown",
   "id": "hydraulic-puzzle",
   "metadata": {},
   "source": [
    "The normal module is defined as $N = \\mathrm{Hom}_R(I, R/I)$. OSCAR knows how to handle `Hom`-modules, \n",
    "but we need to convert all the participants into modules, first."
   ]
  },
  {
   "cell_type": "code",
   "execution_count": null,
   "id": "lonely-sussex",
   "metadata": {},
   "outputs": [],
   "source": [
    "F1 = FreeMod(R, 1) # A free module over R of rank 1\n",
    "Imod, _ = sub(F1, [g*F1[1] for g in gens(I)]) # the submodule of F1 generated by I\n",
    "RmodI, _ = quo(F1, Imod) # the quotient by that submodule\n",
    "N, vec_to_hom = hom(Imod, RmodI)"
   ]
  },
  {
   "cell_type": "markdown",
   "id": "sticky-ecology",
   "metadata": {},
   "source": [
    "The last command is a bit subtle. It returns a pair `(N, vec_to_hom)` consisting of the actual \n",
    "module `N` and a map `vec_to_hom`. While often we can discard any extra maps returned by \n",
    "constructors, we will need this one in the following. \n",
    "\n",
    "What does `vec_to_hom` do? Well, `N` is constructed as a `Hom`-module. A priori, this is just another \n",
    "finitely generated module, but also every element $v \\in N$ can be interpreted as a module homomorphism \n",
    "$ I \\to R/I$. The returned map `vec_to_hom` allows us to do that interpretation on the computer side \n",
    "so that we really get an honest morphism of modules."
   ]
  },
  {
   "cell_type": "code",
   "execution_count": null,
   "id": "chinese-throat",
   "metadata": {},
   "outputs": [],
   "source": [
    "v = N[1] # the first generator of N\n",
    "typeof(v)"
   ]
  },
  {
   "cell_type": "markdown",
   "id": "mineral-manhattan",
   "metadata": {},
   "source": [
    "We can try to apply `v` to an element of `Imod` directly, but this will fail."
   ]
  },
  {
   "cell_type": "code",
   "execution_count": null,
   "id": "equal-requirement",
   "metadata": {},
   "outputs": [],
   "source": [
    "g = Imod[2] # the second generator of I\n",
    "v(g) # This will complain!"
   ]
  },
  {
   "cell_type": "markdown",
   "id": "opposite-fifth",
   "metadata": {},
   "source": [
    "Converting `v` into a homomorphism makes everything work."
   ]
  },
  {
   "cell_type": "code",
   "execution_count": null,
   "id": "wicked-causing",
   "metadata": {},
   "outputs": [],
   "source": [
    "phi = vec_to_hom(v)\n",
    "@show phi\n",
    "phi(Imod[2])"
   ]
  },
  {
   "cell_type": "markdown",
   "id": "dominant-excerpt",
   "metadata": {},
   "source": [
    "We proceed with the construction of the $T^1(S_5)$. We need to divide by the image of the jacobian matrix."
   ]
  },
  {
   "cell_type": "code",
   "execution_count": null,
   "id": "competitive-window",
   "metadata": {},
   "outputs": [],
   "source": [
    "f = gens(I)\n",
    "Df = jacobi_matrix(f)"
   ]
  },
  {
   "cell_type": "markdown",
   "id": "instant-throw",
   "metadata": {},
   "source": [
    "Now we need the complicated map \n",
    "$\\theta \\colon R^n \\to N, \\quad (v_1,\\dots,v_n) \\mapsto \\left( \\sum_j a_j \\cdot f_j \\mapsto \\sum_{i,j} v_i \\frac{\\partial f_j}{\\partial x_i} a_j \\right)$. \n",
    "For this we need the `vec_to_hom` map from before and take *preimages* of elements along this map. \n",
    "Eventually, we arrive at the following, complicated expression."
   ]
  },
  {
   "cell_type": "code",
   "execution_count": null,
   "id": "formal-stick",
   "metadata": {},
   "outputs": [],
   "source": [
    "theta = hom(Fn, N, [preimage(vec_to_hom, hom(Imod, RmodI, [Df[i,j]*RmodI[1] for j in 1:ngens(Imod)])) for i in 1:ngens(R)])\n",
    "S, _ = image(theta)\n",
    "T1, _ = quo(N, S)\n",
    "kbase(T1)"
   ]
  }
 ],
 "metadata": {
  "kernelspec": {
   "display_name": "Julia 1.7.3",
   "language": "julia",
   "name": "julia-1.7"
  },
  "language_info": {
   "file_extension": ".jl",
   "mimetype": "application/julia",
   "name": "julia",
   "version": "1.7.3"
  }
 },
 "nbformat": 4,
 "nbformat_minor": 5
}
