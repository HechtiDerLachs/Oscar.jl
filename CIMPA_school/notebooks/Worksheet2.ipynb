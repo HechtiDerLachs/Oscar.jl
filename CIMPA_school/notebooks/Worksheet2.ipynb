{
 "cells": [
  {
   "cell_type": "code",
   "execution_count": 1,
   "id": "certain-deviation",
   "metadata": {},
   "outputs": [
    {
     "name": "stderr",
     "output_type": "stream",
     "text": [
      "┌ Info: Precompiling Oscar [f1435218-dba5-11e9-1e4d-f1a5fab5fc13]\n",
      "└ @ Base loading.jl:1423\n",
      "WARNING: could not import Hecke.formal_group_law into Oscar\n",
      "WARNING: could not import Hecke.math_html into Oscar\n",
      "WARNING: using GaloisGrp.extension_field in module Oscar conflicts with an existing identifier.\n",
      "WARNING: could not import Hecke.math_html into QQAbModule\n"
     ]
    },
    {
     "name": "stdout",
     "output_type": "stream",
     "text": [
      " -----    -----    -----      -      -----   \n",
      "|     |  |     |  |     |    | |    |     |  \n",
      "|     |  |        |         |   |   |     |  \n",
      "|     |   -----   |        |     |  |-----   \n",
      "|     |        |  |        |-----|  |   |    \n",
      "|     |  |     |  |     |  |     |  |    |   \n",
      " -----    -----    -----   -     -  -     -  \n",
      "\n",
      "...combining (and extending) ANTIC, GAP, Polymake and Singular\n",
      "Version\u001b[32m 0.10.0 \u001b[39m... \n",
      " ... which comes with absolutely no warranty whatsoever\n",
      "Type: '?Oscar' for more information\n",
      "(c) 2019-2022 by The Oscar Development Team\n"
     ]
    }
   ],
   "source": [
    "using Revise, Oscar"
   ]
  },
  {
   "cell_type": "markdown",
   "id": "conventional-filing",
   "metadata": {},
   "source": [
    "# Worksheet 2: Dimension, multiplicities, etc.\n",
    "\n",
    "## Dimension: Local and global\n",
    "\n",
    "The definition of (Krull-) dimension in Noetherian rings is quite unaccessible in general. \n",
    "For local rings, the most practical method to compute dimensions is via the \n",
    "Hilbert-Samuel polynomial. "
   ]
  },
  {
   "cell_type": "code",
   "execution_count": 5,
   "id": "ranging-competition",
   "metadata": {},
   "outputs": [
    {
     "data": {
      "text/plain": [
       "ideal(x*z - y^2, x*w - y*z^2 + y*z, y*w - z^3 + z^2)"
      ]
     },
     "execution_count": 5,
     "metadata": {},
     "output_type": "execute_result"
    }
   ],
   "source": [
    "R, (x,y,z,w) = QQ[\"x\", \"y\", \"z\", \"w\"]\n",
    "M = R[x y z*(z-1); y z w]\n",
    "I = ideal(R, minors(M, 2))"
   ]
  },
  {
   "cell_type": "markdown",
   "id": "annoying-moldova",
   "metadata": {},
   "source": [
    "With the following command we create a *local* ordering on the variables of $R$."
   ]
  },
  {
   "cell_type": "code",
   "execution_count": 10,
   "id": "german-sacrifice",
   "metadata": {},
   "outputs": [
    {
     "data": {
      "text/plain": [
       "negdegrevlex(fmpq_mpoly[x, y, z, w])"
      ]
     },
     "execution_count": 10,
     "metadata": {},
     "output_type": "execute_result"
    }
   ],
   "source": [
    "o = negdegrevlex(gens(R))"
   ]
  },
  {
   "cell_type": "markdown",
   "id": "palestinian-extent",
   "metadata": {},
   "source": [
    "We can use this to produce a *standard basis* of the ideal $I$ for this ordering. "
   ]
  },
  {
   "cell_type": "code",
   "execution_count": 12,
   "id": "alpine-guidance",
   "metadata": {},
   "outputs": [
    {
     "data": {
      "text/plain": [
       "3-element Vector{fmpq_mpoly}:\n",
       " -x*z + y^2\n",
       " x*w - y*z^2 + y*z\n",
       " y*w - z^3 + z^2"
      ]
     },
     "execution_count": 12,
     "metadata": {},
     "output_type": "execute_result"
    }
   ],
   "source": [
    "std_I = std_basis(I, o)"
   ]
  },
  {
   "cell_type": "markdown",
   "id": "going-poison",
   "metadata": {},
   "source": [
    "For a given ordering, we can also ask for the *leading ideal* of $I$ which is simply the ideal generated \n",
    "by the leading terms of the elements of the standard basis."
   ]
  },
  {
   "cell_type": "code",
   "execution_count": 13,
   "id": "informative-porter",
   "metadata": {},
   "outputs": [
    {
     "data": {
      "text/plain": [
       "ideal(y^2, y*z, z^2)"
      ]
     },
     "execution_count": 13,
     "metadata": {},
     "output_type": "execute_result"
    }
   ],
   "source": [
    "lead_I = leading_ideal(I, ordering=o)"
   ]
  },
  {
   "cell_type": "markdown",
   "id": "abstract-dealer",
   "metadata": {},
   "source": [
    "By construction, the leading ideal is a *homogeneous* ideal for this ordering. We can pass to the graded quotient ring for this ideal and compute the Hilbert polynomial."
   ]
  },
  {
   "cell_type": "code",
   "execution_count": 21,
   "id": "armed-customs",
   "metadata": {},
   "outputs": [
    {
     "data": {
      "text/plain": [
       "3*t + 1"
      ]
     },
     "execution_count": 21,
     "metadata": {},
     "output_type": "execute_result"
    }
   ],
   "source": [
    "Rgr, _ = grade(R) # The same ring as R, but with the standard grading \n",
    "lead_Igr = ideal(Rgr, Rgr.(gens(lead_I))) # The graded version of the ideal lead_I\n",
    "Q, _ = quo(Rgr, lead_Igr) # The (graded) quotient ring by that ideal\n",
    "h = hilbert_polynomial(Q)"
   ]
  },
  {
   "cell_type": "markdown",
   "id": "magnetic-advertiser",
   "metadata": {},
   "source": [
    "Note that the Hilbert polynomial comes with a new variable in a new ring."
   ]
  },
  {
   "cell_type": "code",
   "execution_count": null,
   "id": "tracked-burden",
   "metadata": {},
   "outputs": [],
   "source": [
    "parent(h)"
   ]
  },
  {
   "cell_type": "markdown",
   "id": "excess-nursery",
   "metadata": {},
   "source": [
    "Also the Hilbert series is available "
   ]
  },
  {
   "cell_type": "code",
   "execution_count": 25,
   "id": "fantastic-raleigh",
   "metadata": {},
   "outputs": [
    {
     "data": {
      "text/plain": [
       "(2*t^3 - 3*t^2 + 1, t^4 - 4*t^3 + 6*t^2 - 4*t + 1)"
      ]
     },
     "execution_count": 25,
     "metadata": {},
     "output_type": "execute_result"
    }
   ],
   "source": [
    "p, q = hilbert_series(Q)"
   ]
  },
  {
   "cell_type": "markdown",
   "id": "genetic-estimate",
   "metadata": {},
   "source": [
    "Accessing the coefficients of the Hilbert polynomial is rather tedious. The reason is that \n",
    "the `coefficients` command returns an `iterator`; a common behaviour in `julia`. "
   ]
  },
  {
   "cell_type": "code",
   "execution_count": 29,
   "id": "understood-visit",
   "metadata": {},
   "outputs": [
    {
     "data": {
      "text/plain": [
       "PolyCoeffs{fmpq_poly}(3*t + 1)"
      ]
     },
     "execution_count": 29,
     "metadata": {},
     "output_type": "execute_result"
    }
   ],
   "source": [
    "coefficients(h)"
   ]
  },
  {
   "cell_type": "markdown",
   "id": "ecological-report",
   "metadata": {},
   "source": [
    "How can we use such iterators? Well, we can, for example, iterate over them in `for`-loops."
   ]
  },
  {
   "cell_type": "code",
   "execution_count": 30,
   "id": "honest-robinson",
   "metadata": {},
   "outputs": [
    {
     "name": "stdout",
     "output_type": "stream",
     "text": [
      "1\n",
      "3\n"
     ]
    }
   ],
   "source": [
    "for c in coefficients(h)\n",
    "    println(c)\n",
    "end"
   ]
  },
  {
   "cell_type": "markdown",
   "id": "norwegian-spirituality",
   "metadata": {},
   "source": [
    "If we do not care about such features and only want everything in a list, we can just feed the iterator to `collect`."
   ]
  },
  {
   "cell_type": "code",
   "execution_count": 31,
   "id": "golden-asthma",
   "metadata": {},
   "outputs": [
    {
     "data": {
      "text/plain": [
       "2-element Vector{fmpq}:\n",
       " 1\n",
       " 3"
      ]
     },
     "execution_count": 31,
     "metadata": {},
     "output_type": "execute_result"
    }
   ],
   "source": [
    "c = collect(coefficients(h))"
   ]
  },
  {
   "cell_type": "markdown",
   "id": "downtown-glucose",
   "metadata": {},
   "source": [
    "Or just take any other shortcut to the information of interest:"
   ]
  },
  {
   "cell_type": "code",
   "execution_count": 33,
   "id": "available-franchise",
   "metadata": {},
   "outputs": [
    {
     "data": {
      "text/plain": [
       "3"
      ]
     },
     "execution_count": 33,
     "metadata": {},
     "output_type": "execute_result"
    }
   ],
   "source": [
    "last(coefficients(h))"
   ]
  },
  {
   "cell_type": "markdown",
   "id": "swedish-bennett",
   "metadata": {},
   "source": [
    "## The Milnor number\n",
    "\n",
    "Let us compute the Milnor number for one of the previous examples"
   ]
  },
  {
   "cell_type": "code",
   "execution_count": 2,
   "id": "elementary-compound",
   "metadata": {},
   "outputs": [
    {
     "data": {
      "text/plain": [
       "x^2*y + x*y^2 - x*y"
      ]
     },
     "execution_count": 2,
     "metadata": {},
     "output_type": "execute_result"
    }
   ],
   "source": [
    "R, (x,y) = QQ[\"x\", \"y\"]\n",
    "f = x*y*(x+y-1)"
   ]
  },
  {
   "cell_type": "markdown",
   "id": "strategic-sister",
   "metadata": {},
   "source": [
    "We can implement the functionality from the lecture in various functions."
   ]
  },
  {
   "cell_type": "code",
   "execution_count": 3,
   "id": "cooked-plenty",
   "metadata": {},
   "outputs": [
    {
     "data": {
      "text/plain": [
       "milnor_number (generic function with 1 method)"
      ]
     },
     "execution_count": 3,
     "metadata": {},
     "output_type": "execute_result"
    }
   ],
   "source": [
    "function milnor_number(f::MPolyElem)\n",
    "    R = parent(f)\n",
    "    J = ideal(R, minors(jacobi_matrix(f), 1))\n",
    "    return singular_vdim(J)\n",
    "end"
   ]
  },
  {
   "cell_type": "markdown",
   "id": "organic-withdrawal",
   "metadata": {},
   "source": [
    "Note that we used a rather involved method as a black box: `singular_vdim`."
   ]
  },
  {
   "cell_type": "code",
   "execution_count": 4,
   "id": "aggregate-arizona",
   "metadata": {},
   "outputs": [
    {
     "data": {
      "text/plain": [
       "4"
      ]
     },
     "execution_count": 4,
     "metadata": {},
     "output_type": "execute_result"
    }
   ],
   "source": [
    "milnor_number(f)"
   ]
  },
  {
   "cell_type": "markdown",
   "id": "adolescent-medication",
   "metadata": {},
   "source": [
    "So what is happening there under the hood? \n",
    "\n",
    "Basically, `singular_vdim` is counting the monomials 'below' the generators of the leading ideal.\n",
    "Let's see whether we can manually confirm the result."
   ]
  },
  {
   "cell_type": "code",
   "execution_count": 5,
   "id": "satellite-uganda",
   "metadata": {},
   "outputs": [
    {
     "data": {
      "text/plain": [
       "ideal(x*y, x^2, y^3)"
      ]
     },
     "execution_count": 5,
     "metadata": {},
     "output_type": "execute_result"
    }
   ],
   "source": [
    "R = parent(f)\n",
    "J = ideal(R, minors(jacobi_matrix(f), 1))\n",
    "o = degrevlex(gens(R))\n",
    "leading_ideal(J, ordering=o)"
   ]
  },
  {
   "cell_type": "markdown",
   "id": "saved-heath",
   "metadata": {},
   "source": [
    "The above is the *global* milnor number. If we are only interested in singularities \n",
    "at the origin, then we can repeat the same process with a local ordering."
   ]
  },
  {
   "cell_type": "code",
   "execution_count": 53,
   "id": "prime-trace",
   "metadata": {},
   "outputs": [
    {
     "data": {
      "text/plain": [
       "ideal(x, y)"
      ]
     },
     "execution_count": 53,
     "metadata": {},
     "output_type": "execute_result"
    }
   ],
   "source": [
    "R = parent(f)\n",
    "J = ideal(R, minors(jacobi_matrix(f), 1))\n",
    "o = negdegrevlex(gens(R))\n",
    "leading_ideal(J, ordering=o)"
   ]
  },
  {
   "cell_type": "markdown",
   "id": "limiting-tracker",
   "metadata": {},
   "source": [
    "We see that the singularity at the origin has Milnor number $1$ instead of the global Milnor number $4$. \n",
    "We allowed ourselves to accomodate the above commands in the following function."
   ]
  },
  {
   "cell_type": "code",
   "execution_count": 54,
   "id": "actual-paragraph",
   "metadata": {},
   "outputs": [
    {
     "data": {
      "text/plain": [
       "1"
      ]
     },
     "execution_count": 54,
     "metadata": {},
     "output_type": "execute_result"
    }
   ],
   "source": [
    "singular_vdim_local(J)"
   ]
  },
  {
   "cell_type": "markdown",
   "id": "copyrighted-pixel",
   "metadata": {},
   "source": [
    "Similarly, we could do the same at any other rational point $p \\in \\mathbf A^2$, for instance at the other singular points $(0, 1)$ or $(1, 0)$ of $f$. To this end, we have to apply an isomorphism $\\varphi \\colon R \\to R$ that takes $p$ to the origin, translate the ideal along $\\varphi$ and repeat the computations for the local ordering. \n",
    "Luckily, this has already been wrapped up in the hidden (i.e. non-exported) function `Oscar.shifted_ideal` "
   ]
  },
  {
   "cell_type": "code",
   "execution_count": 42,
   "id": "vital-anime",
   "metadata": {},
   "outputs": [
    {
     "data": {
      "text/plain": [
       "ideal in localization of Multivariate Polynomial Ring in x, y over Rational Field at the complement of maximal ideal corresponding to point with coordinates fmpq[1, 0] generated by the elements (2*x*y + y^2 - y)//1, (x^2 + 2*x*y - x)//1"
      ]
     },
     "execution_count": 42,
     "metadata": {},
     "output_type": "execute_result"
    }
   ],
   "source": [
    "L, _ = Localization(R, complement_of_ideal(R, [1, 0]))\n",
    "J_loc = L(J)"
   ]
  },
  {
   "cell_type": "code",
   "execution_count": 50,
   "id": "banner-powell",
   "metadata": {},
   "outputs": [
    {
     "data": {
      "text/plain": [
       "ideal(2*x*y + y^2 + y, x^2 + 2*x*y + x + 2*y)"
      ]
     },
     "execution_count": 50,
     "metadata": {},
     "output_type": "execute_result"
    }
   ],
   "source": [
    "Df = jacobi_matrix(L(f))\n",
    "J = ideal(L, minors(Df, 1))\n",
    "J_shift = Oscar.shifted_ideal(J)"
   ]
  },
  {
   "cell_type": "markdown",
   "id": "colored-funds",
   "metadata": {},
   "source": [
    "Note that `shifted_ideal` returns an ideal in the original polynomial ring $R$ and not in the localization $L$!"
   ]
  },
  {
   "cell_type": "code",
   "execution_count": 55,
   "id": "approved-provider",
   "metadata": {},
   "outputs": [
    {
     "data": {
      "text/plain": [
       "1"
      ]
     },
     "execution_count": 55,
     "metadata": {},
     "output_type": "execute_result"
    }
   ],
   "source": [
    "singular_vdim_local(J_shift)"
   ]
  },
  {
   "cell_type": "markdown",
   "id": "executive-retirement",
   "metadata": {},
   "source": [
    "## The Tjurina number\n",
    "\n",
    "For any singular germ $(X,0) \\subset (\\mathbf C,0)$ with an isolated singularity, there is the \n",
    "*Tjurina number* counting the minimal number of parameters in a versal deformation of $(X,0)$. \n",
    "For a hypersurface $X = f^{-1}(\\{0\\})$, $f \\colon (\\mathbf C^{n+1}, 0) \\to (\\mathbf C,0)$ it defined as the length of the *Tjurina algebra*. Let us see this in an example."
   ]
  },
  {
   "cell_type": "code",
   "execution_count": 69,
   "id": "comprehensive-legend",
   "metadata": {},
   "outputs": [
    {
     "data": {
      "text/plain": [
       "16"
      ]
     },
     "execution_count": 69,
     "metadata": {},
     "output_type": "execute_result"
    }
   ],
   "source": [
    "R, (x,y) = QQ[\"x\", \"y\"]\n",
    "f0 = x^5 + y^5\n",
    "J0 = ideal(R, f0) + ideal(R, minors(jacobi_matrix(f0), 1))\n",
    "singular_vdim_local(J0)\n",
    "# milnor_number(f0)"
   ]
  },
  {
   "cell_type": "markdown",
   "id": "sophisticated-thread",
   "metadata": {},
   "source": [
    "Note that this is equal to the Milnor number of $f$. This is due to the fact that $f$ is *quasi-homogeneous*. If the function does not have this property, the Milnor and Tjurina number can differ:"
   ]
  },
  {
   "cell_type": "code",
   "execution_count": 70,
   "id": "exempt-lewis",
   "metadata": {},
   "outputs": [
    {
     "data": {
      "text/plain": [
       "15"
      ]
     },
     "execution_count": 70,
     "metadata": {},
     "output_type": "execute_result"
    }
   ],
   "source": [
    "f1 = x^5 + y^5 + x^3*y^3\n",
    "J1 = ideal(R, f1) + ideal(R, minors(jacobi_matrix(f1), 1))\n",
    "singular_vdim_local(J1)"
   ]
  },
  {
   "cell_type": "code",
   "execution_count": 81,
   "id": "black-clear",
   "metadata": {},
   "outputs": [
    {
     "data": {
      "text/plain": [
       "3-element Vector{Tuple{MPolyIdeal{fmpq_mpoly}, MPolyIdeal{fmpq_mpoly}}}:\n",
       " (ideal(3*y + 5, 3*x + 5), ideal(3*y + 5, 3*x + 5))\n",
       " (ideal(81*y^4 - 135*y^3 + 225*y^2 - 375*y + 625, 75*x + 27*y^3 - 45*y^2 + 75*y - 125), ideal(81*y^4 - 135*y^3 + 225*y^2 - 375*y + 625, 75*x + 27*y^3 - 45*y^2 + 75*y - 125))\n",
       " (ideal(y^6, x*y^4, 3*x^3*y^2 + 5*y^4, 5*x^4 + 3*x^2*y^3), ideal(y, x))"
      ]
     },
     "execution_count": 81,
     "metadata": {},
     "output_type": "execute_result"
    }
   ],
   "source": [
    "milnor_number(f1)\n",
    "# J = ideal(R, minors(jacobi_matrix(f1), 1))\n",
    "# primary_decomposition(J)  # Try this if you want to see what went wrong."
   ]
  },
  {
   "cell_type": "markdown",
   "id": "exotic-leader",
   "metadata": {},
   "source": [
    "What a difference! But wait -- did the Milnor number really jump up that much compared to $f_0$? Somehow, it did, but *globally* and not at the origin!"
   ]
  },
  {
   "cell_type": "code",
   "execution_count": 80,
   "id": "pointed-corrections",
   "metadata": {},
   "outputs": [
    {
     "data": {
      "text/plain": [
       "16"
      ]
     },
     "execution_count": 80,
     "metadata": {},
     "output_type": "execute_result"
    }
   ],
   "source": [
    "L, _ = Localization(R, complement_of_ideal(R, [0, 0]))\n",
    "Oscar.milnor_number(L(f))"
   ]
  },
  {
   "cell_type": "markdown",
   "id": "southeast-gnome",
   "metadata": {},
   "source": [
    "Still, we see a difference of $1$ between these two numbers."
   ]
  },
  {
   "cell_type": "markdown",
   "id": "simplified-journey",
   "metadata": {},
   "source": [
    "## Milnor numbers of ICIS and the Le-Greuel formula\n",
    "\n",
    "Recall the discussion of the Le-Greuel formula for ICIS from the lecture. \n",
    "A necessary ingredient is the construction of *random* hyperplanes. \n",
    "This can, for example, be done as follows. "
   ]
  },
  {
   "cell_type": "code",
   "execution_count": 96,
   "id": "checked-fever",
   "metadata": {},
   "outputs": [
    {
     "data": {
      "text/plain": [
       "10-element Vector{fmpq}:\n",
       " 17//24\n",
       " 45//32\n",
       " 3//7\n",
       " 1//4\n",
       " -36//91\n",
       " -87//79\n",
       " -11//4\n",
       " -9//19\n",
       " 5//77\n",
       " 49//30"
      ]
     },
     "execution_count": 96,
     "metadata": {},
     "output_type": "execute_result"
    }
   ],
   "source": [
    "[rand(QQ, -100:100) for i in 1:10]"
   ]
  },
  {
   "cell_type": "markdown",
   "id": "patient-engagement",
   "metadata": {},
   "source": [
    "Let us compute the Milnor number(s) for the $S_5$ singularity."
   ]
  },
  {
   "cell_type": "code",
   "execution_count": 99,
   "id": "approved-field",
   "metadata": {},
   "outputs": [
    {
     "name": "stdout",
     "output_type": "stream",
     "text": [
      "dim(I) = 1\n",
      "radical(singular_slocus(I)) = ideal(z, y, x)\n"
     ]
    },
    {
     "data": {
      "text/plain": [
       "ideal(z, y, x)"
      ]
     },
     "execution_count": 99,
     "metadata": {},
     "output_type": "execute_result"
    }
   ],
   "source": [
    "R, (x,y,z) = QQ[\"x\", \"y\", \"z\"]\n",
    "I = ideal(R, [x*y, x^2 + y^2 + z^2])\n",
    "# Let us first check that this is really an ICIS\n",
    "@show dim(I)\n",
    "@show radical(singular_slocus(I))"
   ]
  },
  {
   "cell_type": "markdown",
   "id": "automotive-calgary",
   "metadata": {},
   "source": [
    "Next, we need to construct the isolated hypersurface singularity\n",
    "given by a random linear combination of the two generators."
   ]
  },
  {
   "cell_type": "code",
   "execution_count": 103,
   "id": "average-asthma",
   "metadata": {},
   "outputs": [
    {
     "data": {
      "text/plain": [
       "ideal(97//16*x^2 + 73//13*x*y + 97//16*y^2 + 97//16*z^2)"
      ]
     },
     "execution_count": 103,
     "metadata": {},
     "output_type": "execute_result"
    }
   ],
   "source": [
    "a = [rand(QQ, -100:100) for i in 1:2]\n",
    "h = sum([c*g for (c, g) in zip(a, gens(I))])\n",
    "I1 = ideal(R, h)"
   ]
  },
  {
   "cell_type": "markdown",
   "id": "worse-enzyme",
   "metadata": {},
   "source": [
    "Let us verify that this is indeed an isolated hypersurface singularity."
   ]
  },
  {
   "cell_type": "code",
   "execution_count": 107,
   "id": "eight-nutrition",
   "metadata": {},
   "outputs": [
    {
     "name": "stdout",
     "output_type": "stream",
     "text": [
      "dim(I1) = 2\n",
      "radical(singular_slocus(I1)) = ideal(z, y, x)\n",
      "About the singularity :\n",
      "          Milnor number(f)   = 1\n",
      "          Corank(f)          = 0\n",
      "          Determinacy       <= 2\n",
      "Guessing type via Milnorcode:  A[1]\n",
      "\n",
      "Computing normal form ...\n",
      "   Arnold step number 2\n",
      "The singularity\n",
      "   97/16x2+73/13xy+97/16y2+97/16z2\n",
      "is R-equivalent to A[1].\n",
      "   Milnor number = 1\n",
      "   modality      = 0\n"
     ]
    },
    {
     "data": {
      "text/plain": [
       "97//16*x^2 + 73//13*x*y + 97//16*y^2 + 97//16*z^2"
      ]
     },
     "execution_count": 107,
     "metadata": {},
     "output_type": "execute_result"
    }
   ],
   "source": [
    "@show dim(I1)\n",
    "@show radical(singular_slocus(I1))"
   ]
  },
  {
   "cell_type": "markdown",
   "id": "noted-childhood",
   "metadata": {},
   "source": [
    "If we want to know more about the singularity at the origin, we may ask OSCAR (or more precisely SINGULAR in the background) to classify it."
   ]
  },
  {
   "cell_type": "code",
   "execution_count": 108,
   "id": "actual-pound",
   "metadata": {},
   "outputs": [
    {
     "name": "stdout",
     "output_type": "stream",
     "text": [
      "About the singularity :\n",
      "          Milnor number(f)   = 1\n",
      "          Corank(f)          = 0\n",
      "          Determinacy       <= 2\n",
      "Guessing type via Milnorcode:  A[1]\n",
      "\n",
      "Computing normal form ...\n",
      "   Arnold step number 2\n",
      "The singularity\n",
      "   97/16x2+73/13xy+97/16y2+97/16z2\n",
      "is R-equivalent to A[1].\n",
      "   Milnor number = 1\n",
      "   modality      = 0\n"
     ]
    },
    {
     "data": {
      "text/plain": [
       "97//16*x^2 + 73//13*x*y + 97//16*y^2 + 97//16*z^2"
      ]
     },
     "execution_count": 108,
     "metadata": {},
     "output_type": "execute_result"
    }
   ],
   "source": [
    "classify(h)"
   ]
  },
  {
   "cell_type": "code",
   "execution_count": 106,
   "id": "deadly-softball",
   "metadata": {},
   "outputs": [
    {
     "data": {
      "text/plain": [
       "1"
      ]
     },
     "execution_count": 106,
     "metadata": {},
     "output_type": "execute_result"
    }
   ],
   "source": [
    "mu1 = milnor_number(h)"
   ]
  },
  {
   "cell_type": "markdown",
   "id": "spatial-patch",
   "metadata": {},
   "source": [
    "Now comes the truely determinantal part of the formula."
   ]
  },
  {
   "cell_type": "code",
   "execution_count": 115,
   "id": "educated-shift",
   "metadata": {},
   "outputs": [
    {
     "data": {
      "text/plain": [
       "6"
      ]
     },
     "execution_count": 115,
     "metadata": {},
     "output_type": "execute_result"
    }
   ],
   "source": [
    "M = jacobi_matrix(gens(I))\n",
    "J = ideal(R, minors(M, 2)) + I1\n",
    "mu0 = singular_vdim_local(J)"
   ]
  },
  {
   "cell_type": "markdown",
   "id": "infectious-daughter",
   "metadata": {},
   "source": [
    "Hence, the total Milnor number is $\\mu(S_5) = \\mu_0 - \\mu_1 = 6 - 1 = 5$."
   ]
  },
  {
   "cell_type": "markdown",
   "id": "signal-exclusion",
   "metadata": {},
   "source": [
    "## Deformations of complete intersections\n",
    "\n",
    "We use the $S_5$-singularity from before."
   ]
  },
  {
   "cell_type": "code",
   "execution_count": 116,
   "id": "forward-recommendation",
   "metadata": {},
   "outputs": [
    {
     "data": {
      "text/plain": [
       "ideal(x*y, x^2 + y^2 + z^2)"
      ]
     },
     "execution_count": 116,
     "metadata": {},
     "output_type": "execute_result"
    }
   ],
   "source": [
    "R, (x,y,z) = QQ[\"x\", \"y\", \"z\"]\n",
    "I = ideal(R, [x*y, x^2 + y^2 + z^2])"
   ]
  },
  {
   "cell_type": "markdown",
   "id": "sacred-lottery",
   "metadata": {},
   "source": [
    "The normal module is defined as $N = \\mathrm{Hom}_R(I, R/I)$. OSCAR knows how to handle `Hom`-modules, \n",
    "but we need to convert all the participants into modules, first."
   ]
  },
  {
   "cell_type": "code",
   "execution_count": 121,
   "id": "nominated-bachelor",
   "metadata": {},
   "outputs": [
    {
     "data": {
      "text/plain": [
       "(hom of (Imod, RmodI), Map from\n",
       "N to Set of all homomorphisms from Submodule with 2 generators\n",
       "1 -> x*y*e[1]\n",
       "2 -> (x^2 + y^2 + z^2)*e[1]\n",
       "represented as subquotient with no relations. to Subquotient of Submodule with 1 generator\n",
       "1 -> e[1]\n",
       "by Submodule with 2 generators\n",
       "1 -> x*y*e[1]\n",
       "2 -> (x^2 + y^2 + z^2)*e[1] defined by a julia-function with inverse)"
      ]
     },
     "execution_count": 121,
     "metadata": {},
     "output_type": "execute_result"
    }
   ],
   "source": [
    "F1 = FreeMod(R, 1) # A free module over R of rank 1\n",
    "Imod, _ = sub(F1, [g*F1[1] for g in gens(I)]) # the submodule of F1 generated by I\n",
    "RmodI, _ = quo(F1, Imod) # the quotient by that submodule\n",
    "N, vec_to_hom = hom(Imod, RmodI)"
   ]
  },
  {
   "cell_type": "markdown",
   "id": "vocational-duncan",
   "metadata": {},
   "source": [
    "The last command is a bit subtle. It returns a pair `(N, vec_to_hom)` consisting of the actual \n",
    "module `N` and a map `vec_to_hom`. While often we can discard any extra maps returned by \n",
    "constructors, we will need this one in the following. \n",
    "\n",
    "What does `vec_to_hom` do? Well, `N` is constructed as a `Hom`-module. A priori, this is just another \n",
    "finitely generated module, but also every element $v \\in N$ can be interpreted as a module homomorphism \n",
    "$ I \\to R/I$. The returned map `vec_to_hom` allows us to do that interpretation on the computer side \n",
    "so that we really get an honest morphism of modules."
   ]
  },
  {
   "cell_type": "code",
   "execution_count": 125,
   "id": "employed-trance",
   "metadata": {},
   "outputs": [
    {
     "data": {
      "text/plain": [
       "SubQuoElem{fmpq_mpoly}"
      ]
     },
     "execution_count": 125,
     "metadata": {},
     "output_type": "execute_result"
    }
   ],
   "source": [
    "v = N[1] # the first generator of N\n",
    "typeof(v)"
   ]
  },
  {
   "cell_type": "markdown",
   "id": "statewide-kernel",
   "metadata": {},
   "source": [
    "We can try to apply `v` to an element of `Imod` directly, but this will fail."
   ]
  },
  {
   "cell_type": "code",
   "execution_count": 128,
   "id": "accessible-measurement",
   "metadata": {},
   "outputs": [
    {
     "ename": "LoadError",
     "evalue": "MethodError: objects of type SubQuoElem{fmpq_mpoly} are not callable",
     "output_type": "error",
     "traceback": [
      "MethodError: objects of type SubQuoElem{fmpq_mpoly} are not callable",
      "",
      "Stacktrace:",
      " [1] top-level scope",
      "   @ In[128]:2",
      " [2] eval",
      "   @ ./boot.jl:373 [inlined]",
      " [3] include_string(mapexpr::typeof(REPL.softscope), mod::Module, code::String, filename::String)",
      "   @ Base ./loading.jl:1196"
     ]
    }
   ],
   "source": [
    "g = Imod[2] # the second generator of I\n",
    "v(g) # This will complain!"
   ]
  },
  {
   "cell_type": "markdown",
   "id": "incorrect-video",
   "metadata": {},
   "source": [
    "Converting `v` into a homomorphism makes everything work."
   ]
  },
  {
   "cell_type": "code",
   "execution_count": 133,
   "id": "drawn-soundtrack",
   "metadata": {},
   "outputs": [
    {
     "name": "stdout",
     "output_type": "stream",
     "text": [
      "phi = Map with following data\n",
      "Domain:\n",
      "=======\n",
      "Imod\n",
      "Codomain:\n",
      "=========\n",
      "RmodI\n"
     ]
    },
    {
     "data": {
      "text/plain": [
       "-e[1]"
      ]
     },
     "execution_count": 133,
     "metadata": {},
     "output_type": "execute_result"
    }
   ],
   "source": [
    "phi = vec_to_hom(v)\n",
    "@show phi\n",
    "phi(Imod[2])"
   ]
  },
  {
   "cell_type": "markdown",
   "id": "departmental-mills",
   "metadata": {},
   "source": [
    "We proceed with the construction of the $T^1(S_5)$. We need to divide by the image of the jacobian matrix."
   ]
  },
  {
   "cell_type": "code",
   "execution_count": 144,
   "id": "mechanical-object",
   "metadata": {},
   "outputs": [
    {
     "data": {
      "text/plain": [
       "[y   2*x]\n",
       "[x   2*y]\n",
       "[0   2*z]"
      ]
     },
     "execution_count": 144,
     "metadata": {},
     "output_type": "execute_result"
    }
   ],
   "source": [
    "f = gens(I)\n",
    "Df = jacobi_matrix(f)"
   ]
  },
  {
   "cell_type": "markdown",
   "id": "suspected-valley",
   "metadata": {},
   "source": [
    "Now we need the complicated map \n",
    "$\\theta \\colon R^n \\to N, \\quad (v_1,\\dots,v_n) \\mapsto \\left( \\sum_j a_j \\cdot f_j \\mapsto \\sum_{i,j} v_i \\frac{\\partial f_j}{\\partial x_i} a_j \\right)$. \n",
    "For this we need the `vec_to_hom` map from before and take *preimages* of elements along this map. \n",
    "Eventually, we arrive at the following, complicated expression."
   ]
  },
  {
   "cell_type": "code",
   "execution_count": 145,
   "id": "russian-virgin",
   "metadata": {},
   "outputs": [
    {
     "data": {
      "text/plain": [
       "5-element Vector{FreeModElem{fmpq_mpoly}}:\n",
       " (e[1] -> e[1])\n",
       " y*(e[1] -> e[1])\n",
       " z*(e[1] -> e[1])\n",
       " (e[2] -> e[1])\n",
       " y*(e[2] -> e[1])"
      ]
     },
     "execution_count": 145,
     "metadata": {},
     "output_type": "execute_result"
    }
   ],
   "source": [
    "theta = hom(Fn, N, [preimage(vec_to_hom, hom(Imod, RmodI, [Df[i,j]*RmodI[1] for j in 1:ngens(Imod)])) for i in 1:ngens(R)])\n",
    "S, _ = image(theta)\n",
    "T1, _ = quo(N, S)\n",
    "kbase(T1)"
   ]
  }
 ],
 "metadata": {
  "kernelspec": {
   "display_name": "Julia 1.7.3",
   "language": "julia",
   "name": "julia-1.7"
  },
  "language_info": {
   "file_extension": ".jl",
   "mimetype": "application/julia",
   "name": "julia",
   "version": "1.7.3"
  }
 },
 "nbformat": 4,
 "nbformat_minor": 5
}
