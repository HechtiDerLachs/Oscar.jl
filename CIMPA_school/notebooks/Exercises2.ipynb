{
 "cells": [
  {
   "cell_type": "code",
   "execution_count": null,
   "id": "stopped-cartridge",
   "metadata": {},
   "outputs": [],
   "source": [
    "using Oscar"
   ]
  },
  {
   "cell_type": "markdown",
   "id": "sensitive-screw",
   "metadata": {},
   "source": [
    "## Exercise 1: Normalization and how it can be used\n",
    "\n",
    "This exercise is merely to make you aquinted with normalization and how it can be used to get more insight \n",
    "into singularities.\n",
    "\n",
    "As an example consider the Whitney umbrella given by the zero locus of $f = z^2 - x*y^2$.\n",
    "\n",
    " * Find the parametrization via `normalization` and `elimpart` as shown in the lecture\n",
    " * Explicitly write down the parametrization.\n",
    "\n",
    "When finished, repeat the process with $h = x^3 - x^2*z + x*y^2 - x*z^2 - y^2*z + z^3$. What do you get?\n",
    "Compare this with the output of the primary decomposition: What is the geometry reflected by the normalization?"
   ]
  },
  {
   "cell_type": "markdown",
   "id": "processed-coalition",
   "metadata": {},
   "source": [
    "## Exercise 2: Finite determinacy\n",
    "\n",
    "Recall the bounds for finite determinacy for isolated hypersurface singularities for $\\mathcal R$ and $\\mathcal K$ equivalence from the lecture. Write a function `is_R_k_determined(f::MPolyElem, k::Int)` which checks whether \n",
    "a polynomial $f$ is $k$-determined for $\\mathcal R$-equivalence; repeat the same for $\\mathcal K$-equivalence. \n",
    "\n",
    "You can test you functions on the singularities given by $f(x,y,z) = x^3 + y^3 + z^3 + x*y*z$ and $g(x,y) = x^5 + y^{11}$."
   ]
  },
  {
   "cell_type": "markdown",
   "id": "casual-tribe",
   "metadata": {},
   "source": [
    "## Exercise 3: Versal deformations for IHS\n",
    "\n",
    "You saw in the lectures how to one can write a function to automatically generate \n",
    "a semi-universal unfolding $F$ for $\\mathcal R$-equivalence of an isolated hypersurface singularity $f$. \n",
    "\n",
    " * Do the same for a semi-universal deformation of $X = f^{-1}(\\{0\\})$, i.e. up to $\\mathcal K$-equivalence. \n",
    "\n",
    " * When done, test your function on the $D_4$-singularity given by $x*(x^2 - y^2)+ z^2$. What is the discriminant?\n",
    "\n",
    " * Find the semi-universal deformation of the singularity $h = x^5 + y^5 + x^3*y^3$. How does that compare to the semi-universal unfolding (i.e. up to $\\mathcal R$ equivalence)? \n",
    " \n",
    "**WARNING:** It is a hopeless undertaking to compute the discriminants in the last exercise!"
   ]
  },
  {
   "cell_type": "markdown",
   "id": "comic-feature",
   "metadata": {},
   "source": [
    "## Exercise 4: Versal deformations of ICIS\n",
    "\n",
    "In the lecture's worksheets, there was already a method to compute the $T^1$ of an ICIS. \n",
    "\n",
    " * Extend this functionality to write down a semi-universal deformation.\n",
    " * Test your method with the 'fat point' singularity $F_4$ given by the regular sequence $x*y, x^2 + y^3$."
   ]
  },
  {
   "cell_type": "markdown",
   "id": "thermal-wagon",
   "metadata": {},
   "source": [
    "## Exercise 5 (*): GL-equivalence and unfoldings of matrices\n",
    "\n",
    "Recall the notions of GL-equivalence for $m\\times n$-matrices from the lectures by Prof. Maria Ruas: \n",
    "\n",
    "$A \\sim A' \\Leftrightarrow \\exists P \\in \\mathrm{GL}(m), Q \\in \\mathrm{GL}(n), \\Phi \\colon (\\mathbb C^p,0) \\to (\\mathbb C^p,0) : A \\circ \\Phi = P \\cdot A' \\cdot Q^{-1}$.\n",
    "\n",
    " * Write a function which computes the extended tangent space of a given matrix $A$ for GL-equivalence. \n",
    " * Write a function that returns the semi-universal unfolding for GL-equivalence for a given matrix.\n",
    " * Can you compute the discriminants in some examples?"
   ]
  },
  {
   "cell_type": "markdown",
   "id": "improving-abortion",
   "metadata": {},
   "source": [
    "## Exercise 6 (*): Bifurcation\n",
    "\n",
    "Recall the question by Juan Nuno-Ballesteros from the last lecture. \n",
    "\n",
    "Let $F: (\\mathbb C^n,0) \\times (\\mathbb C^k,0) \\to (\\mathbb C,0)$ be the unfolding of a map germ $f \\colon (\\mathbb C^n,0) \\to (\\mathbb C,0)$. We write $f_t$ for the function $F(-;t)$.  The \n",
    "*bifurcation set* $B \\subset \\mathbb C^k$ is defined as \n",
    "the set of parameters $t \\in \\mathbb C^k$ for which $f_t$ either has a non-Morse critical point or at least two critical points with the same image.\n",
    "\n",
    " * Write a program to compute the equations for the bifurcation set.\n",
    "\n",
    "(*) hard exercise!"
   ]
  }
 ],
 "metadata": {
  "kernelspec": {
   "display_name": "Julia 1.7.3",
   "language": "julia",
   "name": "julia-1.7"
  },
  "language_info": {
   "file_extension": ".jl",
   "mimetype": "application/julia",
   "name": "julia",
   "version": "1.7.3"
  }
 },
 "nbformat": 4,
 "nbformat_minor": 5
}
